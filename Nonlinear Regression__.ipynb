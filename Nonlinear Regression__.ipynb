{
 "cells": [
  {
   "cell_type": "markdown",
   "metadata": {},
   "source": [
    "# Nonlinear Regressions"
   ]
  },
  {
   "cell_type": "code",
   "execution_count": 1,
   "metadata": {},
   "outputs": [],
   "source": [
    "# We will take a look some nonlinear regressions"
   ]
  },
  {
   "cell_type": "code",
   "execution_count": 2,
   "metadata": {},
   "outputs": [],
   "source": [
    "import numpy as np\n",
    "import matplotlib.pyplot as plt\n",
    "import pandas as pd\n",
    "import warnings\n",
    "warnings.filterwarnings('ignore')"
   ]
  },
  {
   "cell_type": "markdown",
   "metadata": {},
   "source": [
    "### Creating and Importing the data"
   ]
  },
  {
   "cell_type": "code",
   "execution_count": 3,
   "metadata": {},
   "outputs": [],
   "source": [
    "# Firstly let's create a data"
   ]
  },
  {
   "cell_type": "code",
   "execution_count": 4,
   "metadata": {},
   "outputs": [],
   "source": [
    "data_frame={'X':[0.9,2.3,2.4,4.7,5,6,6.4,6.55,6.58,7,7.2,7.8,7.84,8.1,8.16,8.19,10.3,10.6],\n",
    "     'Y':[9,70,65,94,93,99,101,104,100,96,94,105,108,111,90,97,101,103]}"
   ]
  },
  {
   "cell_type": "code",
   "execution_count": 5,
   "metadata": {},
   "outputs": [],
   "source": [
    "df=pd.DataFrame(data_frame)"
   ]
  },
  {
   "cell_type": "code",
   "execution_count": 6,
   "metadata": {},
   "outputs": [
    {
     "data": {
      "text/html": [
       "<div>\n",
       "<style scoped>\n",
       "    .dataframe tbody tr th:only-of-type {\n",
       "        vertical-align: middle;\n",
       "    }\n",
       "\n",
       "    .dataframe tbody tr th {\n",
       "        vertical-align: top;\n",
       "    }\n",
       "\n",
       "    .dataframe thead th {\n",
       "        text-align: right;\n",
       "    }\n",
       "</style>\n",
       "<table border=\"1\" class=\"dataframe\">\n",
       "  <thead>\n",
       "    <tr style=\"text-align: right;\">\n",
       "      <th></th>\n",
       "      <th>X</th>\n",
       "      <th>Y</th>\n",
       "    </tr>\n",
       "  </thead>\n",
       "  <tbody>\n",
       "    <tr>\n",
       "      <th>0</th>\n",
       "      <td>0.90</td>\n",
       "      <td>9</td>\n",
       "    </tr>\n",
       "    <tr>\n",
       "      <th>1</th>\n",
       "      <td>2.30</td>\n",
       "      <td>70</td>\n",
       "    </tr>\n",
       "    <tr>\n",
       "      <th>2</th>\n",
       "      <td>2.40</td>\n",
       "      <td>65</td>\n",
       "    </tr>\n",
       "    <tr>\n",
       "      <th>3</th>\n",
       "      <td>4.70</td>\n",
       "      <td>94</td>\n",
       "    </tr>\n",
       "    <tr>\n",
       "      <th>4</th>\n",
       "      <td>5.00</td>\n",
       "      <td>93</td>\n",
       "    </tr>\n",
       "    <tr>\n",
       "      <th>5</th>\n",
       "      <td>6.00</td>\n",
       "      <td>99</td>\n",
       "    </tr>\n",
       "    <tr>\n",
       "      <th>6</th>\n",
       "      <td>6.40</td>\n",
       "      <td>101</td>\n",
       "    </tr>\n",
       "    <tr>\n",
       "      <th>7</th>\n",
       "      <td>6.55</td>\n",
       "      <td>104</td>\n",
       "    </tr>\n",
       "    <tr>\n",
       "      <th>8</th>\n",
       "      <td>6.58</td>\n",
       "      <td>100</td>\n",
       "    </tr>\n",
       "    <tr>\n",
       "      <th>9</th>\n",
       "      <td>7.00</td>\n",
       "      <td>96</td>\n",
       "    </tr>\n",
       "    <tr>\n",
       "      <th>10</th>\n",
       "      <td>7.20</td>\n",
       "      <td>94</td>\n",
       "    </tr>\n",
       "    <tr>\n",
       "      <th>11</th>\n",
       "      <td>7.80</td>\n",
       "      <td>105</td>\n",
       "    </tr>\n",
       "    <tr>\n",
       "      <th>12</th>\n",
       "      <td>7.84</td>\n",
       "      <td>108</td>\n",
       "    </tr>\n",
       "    <tr>\n",
       "      <th>13</th>\n",
       "      <td>8.10</td>\n",
       "      <td>111</td>\n",
       "    </tr>\n",
       "    <tr>\n",
       "      <th>14</th>\n",
       "      <td>8.16</td>\n",
       "      <td>90</td>\n",
       "    </tr>\n",
       "    <tr>\n",
       "      <th>15</th>\n",
       "      <td>8.19</td>\n",
       "      <td>97</td>\n",
       "    </tr>\n",
       "    <tr>\n",
       "      <th>16</th>\n",
       "      <td>10.30</td>\n",
       "      <td>101</td>\n",
       "    </tr>\n",
       "    <tr>\n",
       "      <th>17</th>\n",
       "      <td>10.60</td>\n",
       "      <td>103</td>\n",
       "    </tr>\n",
       "  </tbody>\n",
       "</table>\n",
       "</div>"
      ],
      "text/plain": [
       "        X    Y\n",
       "0    0.90    9\n",
       "1    2.30   70\n",
       "2    2.40   65\n",
       "3    4.70   94\n",
       "4    5.00   93\n",
       "5    6.00   99\n",
       "6    6.40  101\n",
       "7    6.55  104\n",
       "8    6.58  100\n",
       "9    7.00   96\n",
       "10   7.20   94\n",
       "11   7.80  105\n",
       "12   7.84  108\n",
       "13   8.10  111\n",
       "14   8.16   90\n",
       "15   8.19   97\n",
       "16  10.30  101\n",
       "17  10.60  103"
      ]
     },
     "execution_count": 6,
     "metadata": {},
     "output_type": "execute_result"
    }
   ],
   "source": [
    "df"
   ]
  },
  {
   "cell_type": "code",
   "execution_count": 7,
   "metadata": {},
   "outputs": [
    {
     "data": {
      "text/plain": [
       "<matplotlib.collections.PathCollection at 0x91aa5d0>"
      ]
     },
     "execution_count": 7,
     "metadata": {},
     "output_type": "execute_result"
    },
    {
     "data": {
      "image/png": "[encoded data removed]",
      "text/plain": [
       "<Figure size 432x288 with 1 Axes>"
      ]
     },
     "metadata": {
      "needs_background": "light"
     },
     "output_type": "display_data"
    }
   ],
   "source": [
    "# Visualization of Scatter plot\n",
    "plt.scatter(df['X'],df['Y'])"
   ]
  },
  {
   "cell_type": "code",
   "execution_count": 8,
   "metadata": {},
   "outputs": [],
   "source": [
    "# Let's examine each nonlinear graph separately."
   ]
  },
  {
   "cell_type": "markdown",
   "metadata": {},
   "source": [
    "# 1. Polynomial regression"
   ]
  },
  {
   "cell_type": "markdown",
   "metadata": {},
   "source": [
    "### Determining dependent and independent variables"
   ]
  },
  {
   "cell_type": "code",
   "execution_count": 9,
   "metadata": {},
   "outputs": [],
   "source": [
    "x=df.iloc[:,0:1].values\n",
    "y=df.iloc[:,-1].values"
   ]
  },
  {
   "cell_type": "code",
   "execution_count": 10,
   "metadata": {},
   "outputs": [
    {
     "data": {
      "text/plain": [
       "array([[ 0.9 ],\n",
       "       [ 2.3 ],\n",
       "       [ 2.4 ],\n",
       "       [ 4.7 ],\n",
       "       [ 5.  ],\n",
       "       [ 6.  ],\n",
       "       [ 6.4 ],\n",
       "       [ 6.55],\n",
       "       [ 6.58],\n",
       "       [ 7.  ],\n",
       "       [ 7.2 ],\n",
       "       [ 7.8 ],\n",
       "       [ 7.84],\n",
       "       [ 8.1 ],\n",
       "       [ 8.16],\n",
       "       [ 8.19],\n",
       "       [10.3 ],\n",
       "       [10.6 ]])"
      ]
     },
     "execution_count": 10,
     "metadata": {},
     "output_type": "execute_result"
    }
   ],
   "source": [
    "x"
   ]
  },
  {
   "cell_type": "code",
   "execution_count": 11,
   "metadata": {},
   "outputs": [
    {
     "data": {
      "text/plain": [
       "array([  9,  70,  65,  94,  93,  99, 101, 104, 100,  96,  94, 105, 108,\n",
       "       111,  90,  97, 101, 103], dtype=int64)"
      ]
     },
     "execution_count": 11,
     "metadata": {},
     "output_type": "execute_result"
    }
   ],
   "source": [
    "y"
   ]
  },
  {
   "cell_type": "markdown",
   "metadata": {},
   "source": [
    "### Training Regression model"
   ]
  },
  {
   "cell_type": "code",
   "execution_count": 12,
   "metadata": {},
   "outputs": [],
   "source": [
    "from sklearn.linear_model import LinearRegression"
   ]
  },
  {
   "cell_type": "code",
   "execution_count": 13,
   "metadata": {},
   "outputs": [
    {
     "data": {
      "text/plain": [
       "LinearRegression(copy_X=True, fit_intercept=True, n_jobs=None, normalize=False)"
      ]
     },
     "execution_count": 13,
     "metadata": {},
     "output_type": "execute_result"
    }
   ],
   "source": [
    "reg=LinearRegression()\n",
    "reg.fit(x,y)"
   ]
  },
  {
   "cell_type": "markdown",
   "metadata": {},
   "source": [
    "### Training the Polynomial Regression model "
   ]
  },
  {
   "cell_type": "code",
   "execution_count": 14,
   "metadata": {},
   "outputs": [],
   "source": [
    "from sklearn.preprocessing import PolynomialFeatures"
   ]
  },
  {
   "cell_type": "code",
   "execution_count": 15,
   "metadata": {},
   "outputs": [],
   "source": [
    "poly_reg=PolynomialFeatures(degree=4)\n",
    "x_poly=poly_reg.fit_transform(x)"
   ]
  },
  {
   "cell_type": "code",
   "execution_count": 16,
   "metadata": {},
   "outputs": [],
   "source": [
    "reg_2=LinearRegression()"
   ]
  },
  {
   "cell_type": "code",
   "execution_count": 17,
   "metadata": {},
   "outputs": [
    {
     "data": {
      "text/plain": [
       "LinearRegression(copy_X=True, fit_intercept=True, n_jobs=None, normalize=False)"
      ]
     },
     "execution_count": 17,
     "metadata": {},
     "output_type": "execute_result"
    }
   ],
   "source": [
    "reg_2.fit(x_poly,y)"
   ]
  },
  {
   "cell_type": "markdown",
   "metadata": {},
   "source": [
    "### Visualization of Linear Regression model"
   ]
  },
  {
   "cell_type": "code",
   "execution_count": 18,
   "metadata": {},
   "outputs": [
    {
     "data": {
      "image/png": "[encoded data removed]",
      "text/plain": [
       "<Figure size 432x288 with 1 Axes>"
      ]
     },
     "metadata": {
      "needs_background": "light"
     },
     "output_type": "display_data"
    }
   ],
   "source": [
    "plt.scatter(x, y, color = 'green', label='original model')\n",
    "plt.plot(x, reg.predict(x), color = 'red', label='predicted model')\n",
    "plt.legend()\n",
    "plt.title('Linear Regression')\n",
    "plt.xlabel('X - column')\n",
    "plt.ylabel('Y - column')\n",
    "plt.show()"
   ]
  },
  {
   "cell_type": "markdown",
   "metadata": {},
   "source": [
    "### Visualization of Polynomial Regression model"
   ]
  },
  {
   "cell_type": "code",
   "execution_count": 19,
   "metadata": {},
   "outputs": [
    {
     "data": {
      "image/png": "[encoded data removed]",
      "text/plain": [
       "<Figure size 432x288 with 1 Axes>"
      ]
     },
     "metadata": {
      "needs_background": "light"
     },
     "output_type": "display_data"
    }
   ],
   "source": [
    "plt.scatter(x, y, color = 'green', label='original model')\n",
    "plt.plot(x, reg_2.predict(poly_reg.fit_transform(x)), color = 'red', label='predicted model')\n",
    "plt.legend()\n",
    "plt.title('Polynomial Regression')\n",
    "plt.xlabel('X - column')\n",
    "plt.ylabel('Y - column')\n",
    "plt.show()"
   ]
  },
  {
   "cell_type": "code",
   "execution_count": 20,
   "metadata": {},
   "outputs": [],
   "source": [
    "# According to graph, polynomial regression is good fitted model but this model tries to touch outliers. "
   ]
  },
  {
   "cell_type": "code",
   "execution_count": 21,
   "metadata": {},
   "outputs": [],
   "source": [
    "# poly_reg=PolynomialFeatures(degree=4)\n",
    "# Degree can be any number but generally we use 4. For example let's see degree of 2"
   ]
  },
  {
   "cell_type": "markdown",
   "metadata": {},
   "source": [
    "### Polynomial regression with degree of 2"
   ]
  },
  {
   "cell_type": "code",
   "execution_count": 22,
   "metadata": {},
   "outputs": [],
   "source": [
    "poly_reg_2=PolynomialFeatures(degree=2)\n",
    "x_poly_2=poly_reg_2.fit_transform(x)"
   ]
  },
  {
   "cell_type": "code",
   "execution_count": 23,
   "metadata": {},
   "outputs": [],
   "source": [
    "reg_2_=LinearRegression()"
   ]
  },
  {
   "cell_type": "code",
   "execution_count": 24,
   "metadata": {},
   "outputs": [
    {
     "data": {
      "text/plain": [
       "LinearRegression(copy_X=True, fit_intercept=True, n_jobs=None, normalize=False)"
      ]
     },
     "execution_count": 24,
     "metadata": {},
     "output_type": "execute_result"
    }
   ],
   "source": [
    "reg_2_.fit(x_poly_2,y)"
   ]
  },
  {
   "cell_type": "code",
   "execution_count": 25,
   "metadata": {},
   "outputs": [
    {
     "data": {
      "image/png": "[encoded data removed]",
      "text/plain": [
       "<Figure size 432x288 with 1 Axes>"
      ]
     },
     "metadata": {
      "needs_background": "light"
     },
     "output_type": "display_data"
    }
   ],
   "source": [
    "plt.scatter(x, y, color = 'green', label='original model')\n",
    "plt.plot(x, reg_2_.predict(x_poly_2), color = 'red', label='predicted model')\n",
    "plt.legend()\n",
    "plt.title('Polynomial Regression')\n",
    "plt.xlabel('X - column')\n",
    "plt.ylabel('Y - column')\n",
    "plt.show()"
   ]
  },
  {
   "cell_type": "code",
   "execution_count": 26,
   "metadata": {},
   "outputs": [],
   "source": [
    "# As we see, this is not quite good model"
   ]
  },
  {
   "cell_type": "markdown",
   "metadata": {},
   "source": [
    "### More smoother polynomial regression"
   ]
  },
  {
   "cell_type": "code",
   "execution_count": 27,
   "metadata": {},
   "outputs": [],
   "source": [
    "# To obtain more smoother graph we must grid independent variables in any interval"
   ]
  },
  {
   "cell_type": "code",
   "execution_count": 28,
   "metadata": {},
   "outputs": [],
   "source": [
    "x_grid = np.arange(min(x), max(x), 0.1)\n",
    "x_grid = x_grid.reshape((len(x_grid), 1))"
   ]
  },
  {
   "cell_type": "code",
   "execution_count": 29,
   "metadata": {},
   "outputs": [
    {
     "data": {
      "text/plain": [
       "array([[ 0.9],\n",
       "       [ 1. ],\n",
       "       [ 1.1],\n",
       "       [ 1.2],\n",
       "       [ 1.3],\n",
       "       [ 1.4],\n",
       "       [ 1.5],\n",
       "       [ 1.6],\n",
       "       [ 1.7],\n",
       "       [ 1.8],\n",
       "       [ 1.9],\n",
       "       [ 2. ],\n",
       "       [ 2.1],\n",
       "       [ 2.2],\n",
       "       [ 2.3],\n",
       "       [ 2.4],\n",
       "       [ 2.5],\n",
       "       [ 2.6],\n",
       "       [ 2.7],\n",
       "       [ 2.8],\n",
       "       [ 2.9],\n",
       "       [ 3. ],\n",
       "       [ 3.1],\n",
       "       [ 3.2],\n",
       "       [ 3.3],\n",
       "       [ 3.4],\n",
       "       [ 3.5],\n",
       "       [ 3.6],\n",
       "       [ 3.7],\n",
       "       [ 3.8],\n",
       "       [ 3.9],\n",
       "       [ 4. ],\n",
       "       [ 4.1],\n",
       "       [ 4.2],\n",
       "       [ 4.3],\n",
       "       [ 4.4],\n",
       "       [ 4.5],\n",
       "       [ 4.6],\n",
       "       [ 4.7],\n",
       "       [ 4.8],\n",
       "       [ 4.9],\n",
       "       [ 5. ],\n",
       "       [ 5.1],\n",
       "       [ 5.2],\n",
       "       [ 5.3],\n",
       "       [ 5.4],\n",
       "       [ 5.5],\n",
       "       [ 5.6],\n",
       "       [ 5.7],\n",
       "       [ 5.8],\n",
       "       [ 5.9],\n",
       "       [ 6. ],\n",
       "       [ 6.1],\n",
       "       [ 6.2],\n",
       "       [ 6.3],\n",
       "       [ 6.4],\n",
       "       [ 6.5],\n",
       "       [ 6.6],\n",
       "       [ 6.7],\n",
       "       [ 6.8],\n",
       "       [ 6.9],\n",
       "       [ 7. ],\n",
       "       [ 7.1],\n",
       "       [ 7.2],\n",
       "       [ 7.3],\n",
       "       [ 7.4],\n",
       "       [ 7.5],\n",
       "       [ 7.6],\n",
       "       [ 7.7],\n",
       "       [ 7.8],\n",
       "       [ 7.9],\n",
       "       [ 8. ],\n",
       "       [ 8.1],\n",
       "       [ 8.2],\n",
       "       [ 8.3],\n",
       "       [ 8.4],\n",
       "       [ 8.5],\n",
       "       [ 8.6],\n",
       "       [ 8.7],\n",
       "       [ 8.8],\n",
       "       [ 8.9],\n",
       "       [ 9. ],\n",
       "       [ 9.1],\n",
       "       [ 9.2],\n",
       "       [ 9.3],\n",
       "       [ 9.4],\n",
       "       [ 9.5],\n",
       "       [ 9.6],\n",
       "       [ 9.7],\n",
       "       [ 9.8],\n",
       "       [ 9.9],\n",
       "       [10. ],\n",
       "       [10.1],\n",
       "       [10.2],\n",
       "       [10.3],\n",
       "       [10.4],\n",
       "       [10.5]])"
      ]
     },
     "execution_count": 29,
     "metadata": {},
     "output_type": "execute_result"
    }
   ],
   "source": [
    "x_grid"
   ]
  },
  {
   "cell_type": "code",
   "execution_count": 30,
   "metadata": {},
   "outputs": [
    {
     "data": {
      "image/png": "[encoded data removed]",
      "text/plain": [
       "<Figure size 432x288 with 1 Axes>"
      ]
     },
     "metadata": {
      "needs_background": "light"
     },
     "output_type": "display_data"
    }
   ],
   "source": [
    "x_grid = np.arange(min(x), max(x), 0.1)\n",
    "x_grid = x_grid.reshape((len(x_grid), 1))\n",
    "plt.scatter(x, y, color = 'green')\n",
    "plt.plot(x_grid, reg_2.predict(poly_reg.fit_transform(x_grid)), color = 'red')\n",
    "plt.title('Polynomial Regression')\n",
    "plt.xlabel('X - column')\n",
    "plt.ylabel('Y - column')\n",
    "plt.show()"
   ]
  },
  {
   "cell_type": "code",
   "execution_count": 31,
   "metadata": {},
   "outputs": [],
   "source": [
    "# Comparing to previous polynomial model we can say that, this one is more smoother"
   ]
  },
  {
   "cell_type": "markdown",
   "metadata": {},
   "source": [
    "### Predicting new results in Linear Regression"
   ]
  },
  {
   "cell_type": "code",
   "execution_count": 32,
   "metadata": {},
   "outputs": [
    {
     "data": {
      "text/plain": [
       "array([66.71699813])"
      ]
     },
     "execution_count": 32,
     "metadata": {},
     "output_type": "execute_result"
    }
   ],
   "source": [
    "reg.predict([[3]])"
   ]
  },
  {
   "cell_type": "code",
   "execution_count": 33,
   "metadata": {
    "scrolled": true
   },
   "outputs": [
    {
     "data": {
      "text/plain": [
       "array([62.46907133])"
      ]
     },
     "execution_count": 33,
     "metadata": {},
     "output_type": "execute_result"
    }
   ],
   "source": [
    "reg.predict([[2.40]])"
   ]
  },
  {
   "cell_type": "code",
   "execution_count": 34,
   "metadata": {},
   "outputs": [
    {
     "data": {
      "text/plain": [
       "array([68.84096153])"
      ]
     },
     "execution_count": 34,
     "metadata": {},
     "output_type": "execute_result"
    }
   ],
   "source": [
    "reg.predict([[3.3]])"
   ]
  },
  {
   "cell_type": "code",
   "execution_count": 35,
   "metadata": {},
   "outputs": [
    {
     "data": {
      "text/plain": [
       "array([70.25693713])"
      ]
     },
     "execution_count": 35,
     "metadata": {},
     "output_type": "execute_result"
    }
   ],
   "source": [
    "reg.predict([[3.5]])"
   ]
  },
  {
   "cell_type": "code",
   "execution_count": 36,
   "metadata": {},
   "outputs": [
    {
     "data": {
      "text/plain": [
       "array([73.08888833])"
      ]
     },
     "execution_count": 36,
     "metadata": {},
     "output_type": "execute_result"
    }
   ],
   "source": [
    "reg.predict([[3.9]])"
   ]
  },
  {
   "cell_type": "markdown",
   "metadata": {},
   "source": [
    "### Predicting new results in Polynomial Regression"
   ]
  },
  {
   "cell_type": "code",
   "execution_count": 37,
   "metadata": {},
   "outputs": [
    {
     "data": {
      "text/plain": [
       "array([79.94331238])"
      ]
     },
     "execution_count": 37,
     "metadata": {},
     "output_type": "execute_result"
    }
   ],
   "source": [
    "reg_2.predict(poly_reg.fit_transform([[3]]))"
   ]
  },
  {
   "cell_type": "code",
   "execution_count": 38,
   "metadata": {},
   "outputs": [
    {
     "data": {
      "text/plain": [
       "array([67.75181996])"
      ]
     },
     "execution_count": 38,
     "metadata": {},
     "output_type": "execute_result"
    }
   ],
   "source": [
    "reg_2.predict(poly_reg.fit_transform([[2.40]]))"
   ]
  },
  {
   "cell_type": "code",
   "execution_count": 39,
   "metadata": {
    "scrolled": true
   },
   "outputs": [
    {
     "data": {
      "text/plain": [
       "array([84.38843471])"
      ]
     },
     "execution_count": 39,
     "metadata": {},
     "output_type": "execute_result"
    }
   ],
   "source": [
    "reg_2.predict(poly_reg.fit_transform([[3.3]]))"
   ]
  },
  {
   "cell_type": "code",
   "execution_count": 40,
   "metadata": {},
   "outputs": [
    {
     "data": {
      "text/plain": [
       "array([86.8443308])"
      ]
     },
     "execution_count": 40,
     "metadata": {},
     "output_type": "execute_result"
    }
   ],
   "source": [
    "reg_2.predict(poly_reg.fit_transform([[3.5]]))"
   ]
  },
  {
   "cell_type": "code",
   "execution_count": 41,
   "metadata": {},
   "outputs": [
    {
     "data": {
      "text/plain": [
       "array([90.72375664])"
      ]
     },
     "execution_count": 41,
     "metadata": {},
     "output_type": "execute_result"
    }
   ],
   "source": [
    "reg_2.predict(poly_reg.fit_transform([[3.9]]))"
   ]
  },
  {
   "cell_type": "code",
   "execution_count": 42,
   "metadata": {},
   "outputs": [
    {
     "data": {
      "text/html": [
       "<div>\n",
       "<style scoped>\n",
       "    .dataframe tbody tr th:only-of-type {\n",
       "        vertical-align: middle;\n",
       "    }\n",
       "\n",
       "    .dataframe tbody tr th {\n",
       "        vertical-align: top;\n",
       "    }\n",
       "\n",
       "    .dataframe thead th {\n",
       "        text-align: right;\n",
       "    }\n",
       "</style>\n",
       "<table border=\"1\" class=\"dataframe\">\n",
       "  <thead>\n",
       "    <tr style=\"text-align: right;\">\n",
       "      <th></th>\n",
       "      <th>X</th>\n",
       "      <th>Y</th>\n",
       "    </tr>\n",
       "  </thead>\n",
       "  <tbody>\n",
       "    <tr>\n",
       "      <th>2</th>\n",
       "      <td>2.4</td>\n",
       "      <td>65</td>\n",
       "    </tr>\n",
       "  </tbody>\n",
       "</table>\n",
       "</div>"
      ],
      "text/plain": [
       "     X   Y\n",
       "2  2.4  65"
      ]
     },
     "execution_count": 42,
     "metadata": {},
     "output_type": "execute_result"
    }
   ],
   "source": [
    "df[df['X']==2.40]"
   ]
  },
  {
   "cell_type": "code",
   "execution_count": 43,
   "metadata": {},
   "outputs": [],
   "source": [
    "compare={'X':[2.40,3,3.3,3.5,3.9],\n",
    "         'Y':[65,'No value','No value','No value','No value'],\n",
    "         'Predicted_Y_poly':[67.75,79.94,84.39,86.84,90.72],\n",
    "         'Predicted_Y_linear':[62.47,66.72,68.84,70.26,73.09]}"
   ]
  },
  {
   "cell_type": "code",
   "execution_count": 44,
   "metadata": {},
   "outputs": [],
   "source": [
    "compare_table=pd.DataFrame(compare)"
   ]
  },
  {
   "cell_type": "code",
   "execution_count": 45,
   "metadata": {},
   "outputs": [
    {
     "data": {
      "text/html": [
       "<div>\n",
       "<style scoped>\n",
       "    .dataframe tbody tr th:only-of-type {\n",
       "        vertical-align: middle;\n",
       "    }\n",
       "\n",
       "    .dataframe tbody tr th {\n",
       "        vertical-align: top;\n",
       "    }\n",
       "\n",
       "    .dataframe thead th {\n",
       "        text-align: right;\n",
       "    }\n",
       "</style>\n",
       "<table border=\"1\" class=\"dataframe\">\n",
       "  <thead>\n",
       "    <tr style=\"text-align: right;\">\n",
       "      <th></th>\n",
       "      <th>X</th>\n",
       "      <th>Y</th>\n",
       "      <th>Predicted_Y_poly</th>\n",
       "      <th>Predicted_Y_linear</th>\n",
       "    </tr>\n",
       "  </thead>\n",
       "  <tbody>\n",
       "    <tr>\n",
       "      <th>0</th>\n",
       "      <td>2.4</td>\n",
       "      <td>65</td>\n",
       "      <td>67.75</td>\n",
       "      <td>62.47</td>\n",
       "    </tr>\n",
       "    <tr>\n",
       "      <th>1</th>\n",
       "      <td>3.0</td>\n",
       "      <td>No value</td>\n",
       "      <td>79.94</td>\n",
       "      <td>66.72</td>\n",
       "    </tr>\n",
       "    <tr>\n",
       "      <th>2</th>\n",
       "      <td>3.3</td>\n",
       "      <td>No value</td>\n",
       "      <td>84.39</td>\n",
       "      <td>68.84</td>\n",
       "    </tr>\n",
       "    <tr>\n",
       "      <th>3</th>\n",
       "      <td>3.5</td>\n",
       "      <td>No value</td>\n",
       "      <td>86.84</td>\n",
       "      <td>70.26</td>\n",
       "    </tr>\n",
       "    <tr>\n",
       "      <th>4</th>\n",
       "      <td>3.9</td>\n",
       "      <td>No value</td>\n",
       "      <td>90.72</td>\n",
       "      <td>73.09</td>\n",
       "    </tr>\n",
       "  </tbody>\n",
       "</table>\n",
       "</div>"
      ],
      "text/plain": [
       "     X         Y  Predicted_Y_poly  Predicted_Y_linear\n",
       "0  2.4        65             67.75               62.47\n",
       "1  3.0  No value             79.94               66.72\n",
       "2  3.3  No value             84.39               68.84\n",
       "3  3.5  No value             86.84               70.26\n",
       "4  3.9  No value             90.72               73.09"
      ]
     },
     "execution_count": 45,
     "metadata": {},
     "output_type": "execute_result"
    }
   ],
   "source": [
    "compare_table"
   ]
  },
  {
   "cell_type": "code",
   "execution_count": 46,
   "metadata": {},
   "outputs": [],
   "source": [
    "# In this table  above we can see,\n",
    "# predicted and original values of dependent variables in both linear and polynomial regression in compared form"
   ]
  },
  {
   "cell_type": "markdown",
   "metadata": {},
   "source": [
    "### R-squared"
   ]
  },
  {
   "cell_type": "code",
   "execution_count": 47,
   "metadata": {},
   "outputs": [],
   "source": [
    "from sklearn.metrics import r2_score"
   ]
  },
  {
   "cell_type": "code",
   "execution_count": 48,
   "metadata": {},
   "outputs": [],
   "source": [
    "y_pred=reg_2.predict(x_poly)"
   ]
  },
  {
   "cell_type": "code",
   "execution_count": 49,
   "metadata": {},
   "outputs": [
    {
     "data": {
      "text/plain": [
       "0.9534139481212311"
      ]
     },
     "execution_count": 49,
     "metadata": {},
     "output_type": "execute_result"
    }
   ],
   "source": [
    "r2_score(y,y_pred)"
   ]
  },
  {
   "cell_type": "markdown",
   "metadata": {},
   "source": [
    "# 2. SVR - Support Vector Regression"
   ]
  },
  {
   "cell_type": "code",
   "execution_count": 50,
   "metadata": {},
   "outputs": [],
   "source": [
    "data_frame_2={'X':[0.9,2.3,2.4,4.7,5,6,6.4,6.55,6.58,7,7.2,7.8,7.84,8.1,8.16,8.19,10.3,10.6],\n",
    "              'Y':[9,70,65,94,93,99,101,104,100,96,94,105,108,111,90,97,101,103]}"
   ]
  },
  {
   "cell_type": "code",
   "execution_count": 51,
   "metadata": {},
   "outputs": [],
   "source": [
    "df_2=pd.DataFrame(data_frame_2)"
   ]
  },
  {
   "cell_type": "code",
   "execution_count": 52,
   "metadata": {},
   "outputs": [
    {
     "data": {
      "text/html": [
       "<div>\n",
       "<style scoped>\n",
       "    .dataframe tbody tr th:only-of-type {\n",
       "        vertical-align: middle;\n",
       "    }\n",
       "\n",
       "    .dataframe tbody tr th {\n",
       "        vertical-align: top;\n",
       "    }\n",
       "\n",
       "    .dataframe thead th {\n",
       "        text-align: right;\n",
       "    }\n",
       "</style>\n",
       "<table border=\"1\" class=\"dataframe\">\n",
       "  <thead>\n",
       "    <tr style=\"text-align: right;\">\n",
       "      <th></th>\n",
       "      <th>X</th>\n",
       "      <th>Y</th>\n",
       "    </tr>\n",
       "  </thead>\n",
       "  <tbody>\n",
       "    <tr>\n",
       "      <th>0</th>\n",
       "      <td>0.90</td>\n",
       "      <td>9</td>\n",
       "    </tr>\n",
       "    <tr>\n",
       "      <th>1</th>\n",
       "      <td>2.30</td>\n",
       "      <td>70</td>\n",
       "    </tr>\n",
       "    <tr>\n",
       "      <th>2</th>\n",
       "      <td>2.40</td>\n",
       "      <td>65</td>\n",
       "    </tr>\n",
       "    <tr>\n",
       "      <th>3</th>\n",
       "      <td>4.70</td>\n",
       "      <td>94</td>\n",
       "    </tr>\n",
       "    <tr>\n",
       "      <th>4</th>\n",
       "      <td>5.00</td>\n",
       "      <td>93</td>\n",
       "    </tr>\n",
       "    <tr>\n",
       "      <th>5</th>\n",
       "      <td>6.00</td>\n",
       "      <td>99</td>\n",
       "    </tr>\n",
       "    <tr>\n",
       "      <th>6</th>\n",
       "      <td>6.40</td>\n",
       "      <td>101</td>\n",
       "    </tr>\n",
       "    <tr>\n",
       "      <th>7</th>\n",
       "      <td>6.55</td>\n",
       "      <td>104</td>\n",
       "    </tr>\n",
       "    <tr>\n",
       "      <th>8</th>\n",
       "      <td>6.58</td>\n",
       "      <td>100</td>\n",
       "    </tr>\n",
       "    <tr>\n",
       "      <th>9</th>\n",
       "      <td>7.00</td>\n",
       "      <td>96</td>\n",
       "    </tr>\n",
       "    <tr>\n",
       "      <th>10</th>\n",
       "      <td>7.20</td>\n",
       "      <td>94</td>\n",
       "    </tr>\n",
       "    <tr>\n",
       "      <th>11</th>\n",
       "      <td>7.80</td>\n",
       "      <td>105</td>\n",
       "    </tr>\n",
       "    <tr>\n",
       "      <th>12</th>\n",
       "      <td>7.84</td>\n",
       "      <td>108</td>\n",
       "    </tr>\n",
       "    <tr>\n",
       "      <th>13</th>\n",
       "      <td>8.10</td>\n",
       "      <td>111</td>\n",
       "    </tr>\n",
       "    <tr>\n",
       "      <th>14</th>\n",
       "      <td>8.16</td>\n",
       "      <td>90</td>\n",
       "    </tr>\n",
       "    <tr>\n",
       "      <th>15</th>\n",
       "      <td>8.19</td>\n",
       "      <td>97</td>\n",
       "    </tr>\n",
       "    <tr>\n",
       "      <th>16</th>\n",
       "      <td>10.30</td>\n",
       "      <td>101</td>\n",
       "    </tr>\n",
       "    <tr>\n",
       "      <th>17</th>\n",
       "      <td>10.60</td>\n",
       "      <td>103</td>\n",
       "    </tr>\n",
       "  </tbody>\n",
       "</table>\n",
       "</div>"
      ],
      "text/plain": [
       "        X    Y\n",
       "0    0.90    9\n",
       "1    2.30   70\n",
       "2    2.40   65\n",
       "3    4.70   94\n",
       "4    5.00   93\n",
       "5    6.00   99\n",
       "6    6.40  101\n",
       "7    6.55  104\n",
       "8    6.58  100\n",
       "9    7.00   96\n",
       "10   7.20   94\n",
       "11   7.80  105\n",
       "12   7.84  108\n",
       "13   8.10  111\n",
       "14   8.16   90\n",
       "15   8.19   97\n",
       "16  10.30  101\n",
       "17  10.60  103"
      ]
     },
     "execution_count": 52,
     "metadata": {},
     "output_type": "execute_result"
    }
   ],
   "source": [
    "df_2"
   ]
  },
  {
   "cell_type": "markdown",
   "metadata": {},
   "source": [
    "### Determining dependent and independent variables"
   ]
  },
  {
   "cell_type": "code",
   "execution_count": 53,
   "metadata": {},
   "outputs": [],
   "source": [
    "x_2=df.iloc[:,0:1].values\n",
    "y_2=df.iloc[:,-1].values"
   ]
  },
  {
   "cell_type": "code",
   "execution_count": 54,
   "metadata": {},
   "outputs": [
    {
     "data": {
      "text/plain": [
       "array([[ 0.9 ],\n",
       "       [ 2.3 ],\n",
       "       [ 2.4 ],\n",
       "       [ 4.7 ],\n",
       "       [ 5.  ],\n",
       "       [ 6.  ],\n",
       "       [ 6.4 ],\n",
       "       [ 6.55],\n",
       "       [ 6.58],\n",
       "       [ 7.  ],\n",
       "       [ 7.2 ],\n",
       "       [ 7.8 ],\n",
       "       [ 7.84],\n",
       "       [ 8.1 ],\n",
       "       [ 8.16],\n",
       "       [ 8.19],\n",
       "       [10.3 ],\n",
       "       [10.6 ]])"
      ]
     },
     "execution_count": 54,
     "metadata": {},
     "output_type": "execute_result"
    }
   ],
   "source": [
    "x_2"
   ]
  },
  {
   "cell_type": "code",
   "execution_count": 55,
   "metadata": {},
   "outputs": [
    {
     "data": {
      "text/plain": [
       "array([  9,  70,  65,  94,  93,  99, 101, 104, 100,  96,  94, 105, 108,\n",
       "       111,  90,  97, 101, 103], dtype=int64)"
      ]
     },
     "execution_count": 55,
     "metadata": {},
     "output_type": "execute_result"
    }
   ],
   "source": [
    "y_2"
   ]
  },
  {
   "cell_type": "code",
   "execution_count": 56,
   "metadata": {},
   "outputs": [],
   "source": [
    "# To scale variables we should reshape each variable. Independent variable is in array form anyway.\n",
    "# That's why just dependent variable should be reshaped in array form"
   ]
  },
  {
   "cell_type": "code",
   "execution_count": 57,
   "metadata": {},
   "outputs": [],
   "source": [
    "y_2=y_2.reshape(len(y_2),1)"
   ]
  },
  {
   "cell_type": "code",
   "execution_count": 58,
   "metadata": {},
   "outputs": [
    {
     "data": {
      "text/plain": [
       "array([[  9],\n",
       "       [ 70],\n",
       "       [ 65],\n",
       "       [ 94],\n",
       "       [ 93],\n",
       "       [ 99],\n",
       "       [101],\n",
       "       [104],\n",
       "       [100],\n",
       "       [ 96],\n",
       "       [ 94],\n",
       "       [105],\n",
       "       [108],\n",
       "       [111],\n",
       "       [ 90],\n",
       "       [ 97],\n",
       "       [101],\n",
       "       [103]], dtype=int64)"
      ]
     },
     "execution_count": 58,
     "metadata": {},
     "output_type": "execute_result"
    }
   ],
   "source": [
    "y_2"
   ]
  },
  {
   "cell_type": "markdown",
   "metadata": {},
   "source": [
    "### Scaling"
   ]
  },
  {
   "cell_type": "code",
   "execution_count": 59,
   "metadata": {},
   "outputs": [],
   "source": [
    "from sklearn.preprocessing import StandardScaler"
   ]
  },
  {
   "cell_type": "code",
   "execution_count": 60,
   "metadata": {},
   "outputs": [],
   "source": [
    "scaler_x=StandardScaler()\n",
    "scaler_y=StandardScaler()"
   ]
  },
  {
   "cell_type": "code",
   "execution_count": 61,
   "metadata": {},
   "outputs": [],
   "source": [
    "x_scaled=scaler_x.fit_transform(x_2)\n",
    "y_scaled=scaler_y.fit_transform(y_2)"
   ]
  },
  {
   "cell_type": "code",
   "execution_count": 62,
   "metadata": {},
   "outputs": [
    {
     "data": {
      "text/plain": [
       "array([[-2.1924269 ],\n",
       "       [-1.63893904],\n",
       "       [-1.59940419],\n",
       "       [-0.69010272],\n",
       "       [-0.57149818],\n",
       "       [-0.17614971],\n",
       "       [-0.01801032],\n",
       "       [ 0.04129195],\n",
       "       [ 0.05315241],\n",
       "       [ 0.21919876],\n",
       "       [ 0.29826846],\n",
       "       [ 0.53547754],\n",
       "       [ 0.55129148],\n",
       "       [ 0.65408208],\n",
       "       [ 0.67780299],\n",
       "       [ 0.68966344],\n",
       "       [ 1.52384871],\n",
       "       [ 1.64245325]])"
      ]
     },
     "execution_count": 62,
     "metadata": {},
     "output_type": "execute_result"
    }
   ],
   "source": [
    "x_scaled"
   ]
  },
  {
   "cell_type": "code",
   "execution_count": 63,
   "metadata": {},
   "outputs": [
    {
     "data": {
      "text/plain": [
       "array([[-3.5802566 ],\n",
       "       [-0.92049899],\n",
       "       [-1.13851191],\n",
       "       [ 0.12596302],\n",
       "       [ 0.08236044],\n",
       "       [ 0.34397594],\n",
       "       [ 0.43118111],\n",
       "       [ 0.56198886],\n",
       "       [ 0.38757852],\n",
       "       [ 0.21316819],\n",
       "       [ 0.12596302],\n",
       "       [ 0.60559144],\n",
       "       [ 0.73639919],\n",
       "       [ 0.86720694],\n",
       "       [-0.04844732],\n",
       "       [ 0.25677077],\n",
       "       [ 0.43118111],\n",
       "       [ 0.51838627]])"
      ]
     },
     "execution_count": 63,
     "metadata": {},
     "output_type": "execute_result"
    }
   ],
   "source": [
    "y_scaled"
   ]
  },
  {
   "cell_type": "markdown",
   "metadata": {},
   "source": [
    "### Training the SVR model"
   ]
  },
  {
   "cell_type": "code",
   "execution_count": 64,
   "metadata": {},
   "outputs": [],
   "source": [
    "from sklearn.svm import SVR"
   ]
  },
  {
   "cell_type": "code",
   "execution_count": 65,
   "metadata": {},
   "outputs": [
    {
     "data": {
      "text/plain": [
       "SVR(C=1.0, cache_size=200, coef0=0.0, degree=3, epsilon=0.1,\n",
       "    gamma='auto_deprecated', kernel='rbf', max_iter=-1, shrinking=True,\n",
       "    tol=0.001, verbose=False)"
      ]
     },
     "execution_count": 65,
     "metadata": {},
     "output_type": "execute_result"
    }
   ],
   "source": [
    "svr_reg = SVR(kernel = 'rbf')\n",
    "svr_reg.fit(x_scaled, y_scaled)"
   ]
  },
  {
   "cell_type": "markdown",
   "metadata": {},
   "source": [
    "### Prediction with inverse transform"
   ]
  },
  {
   "cell_type": "code",
   "execution_count": 66,
   "metadata": {},
   "outputs": [
    {
     "data": {
      "text/plain": [
       "array([-0.10574288])"
      ]
     },
     "execution_count": 66,
     "metadata": {},
     "output_type": "execute_result"
    }
   ],
   "source": [
    "svr_reg.predict([[3]])"
   ]
  },
  {
   "cell_type": "code",
   "execution_count": 67,
   "metadata": {},
   "outputs": [],
   "source": [
    "# Prediction value is in scaled form according to scaled values.\n",
    "# That's why we should inverse these values to obtain real values"
   ]
  },
  {
   "cell_type": "code",
   "execution_count": 68,
   "metadata": {},
   "outputs": [
    {
     "data": {
      "text/plain": [
       "array([74.68800136])"
      ]
     },
     "execution_count": 68,
     "metadata": {},
     "output_type": "execute_result"
    }
   ],
   "source": [
    "scaler_y.inverse_transform(svr_reg.predict(scaler_x.transform([[3]])))"
   ]
  },
  {
   "cell_type": "markdown",
   "metadata": {},
   "source": [
    "### Visualization of SVR model"
   ]
  },
  {
   "cell_type": "code",
   "execution_count": 69,
   "metadata": {},
   "outputs": [
    {
     "data": {
      "image/png": "[encoded data removed]",
      "text/plain": [
       "<Figure size 432x288 with 1 Axes>"
      ]
     },
     "metadata": {
      "needs_background": "light"
     },
     "output_type": "display_data"
    }
   ],
   "source": [
    "plt.scatter(scaler_x.inverse_transform(x_scaled), scaler_y.inverse_transform(y_scaled), color = 'orange', label='original model')\n",
    "plt.plot(scaler_x.inverse_transform(x_scaled), scaler_y.inverse_transform(svr_reg.predict(x_scaled)), color = 'purple', label='predicted model')\n",
    "plt.legend()\n",
    "plt.title(\"SVR model\")\n",
    "plt.xlabel(\"X - column\")\n",
    "plt.ylabel(\"Y - column\")\n",
    "plt.show()"
   ]
  },
  {
   "cell_type": "code",
   "execution_count": 70,
   "metadata": {},
   "outputs": [],
   "source": [
    "# We see that, SVR model is good fitted and doesn't try to touch outliers"
   ]
  },
  {
   "cell_type": "markdown",
   "metadata": {},
   "source": [
    "### SVR model with x2_grid"
   ]
  },
  {
   "cell_type": "code",
   "execution_count": 71,
   "metadata": {},
   "outputs": [],
   "source": [
    "# Again we grid the variables to get a smoother model."
   ]
  },
  {
   "cell_type": "code",
   "execution_count": 72,
   "metadata": {},
   "outputs": [],
   "source": [
    "x2_grid = np.arange(min(scaler_x.inverse_transform(x_scaled)), max(scaler_x.inverse_transform(x_scaled)), 0.1)\n",
    "x2_grid = x2_grid.reshape((len(x2_grid), 1))"
   ]
  },
  {
   "cell_type": "code",
   "execution_count": 73,
   "metadata": {},
   "outputs": [
    {
     "data": {
      "text/plain": [
       "array([[ 0.9],\n",
       "       [ 1. ],\n",
       "       [ 1.1],\n",
       "       [ 1.2],\n",
       "       [ 1.3],\n",
       "       [ 1.4],\n",
       "       [ 1.5],\n",
       "       [ 1.6],\n",
       "       [ 1.7],\n",
       "       [ 1.8],\n",
       "       [ 1.9],\n",
       "       [ 2. ],\n",
       "       [ 2.1],\n",
       "       [ 2.2],\n",
       "       [ 2.3],\n",
       "       [ 2.4],\n",
       "       [ 2.5],\n",
       "       [ 2.6],\n",
       "       [ 2.7],\n",
       "       [ 2.8],\n",
       "       [ 2.9],\n",
       "       [ 3. ],\n",
       "       [ 3.1],\n",
       "       [ 3.2],\n",
       "       [ 3.3],\n",
       "       [ 3.4],\n",
       "       [ 3.5],\n",
       "       [ 3.6],\n",
       "       [ 3.7],\n",
       "       [ 3.8],\n",
       "       [ 3.9],\n",
       "       [ 4. ],\n",
       "       [ 4.1],\n",
       "       [ 4.2],\n",
       "       [ 4.3],\n",
       "       [ 4.4],\n",
       "       [ 4.5],\n",
       "       [ 4.6],\n",
       "       [ 4.7],\n",
       "       [ 4.8],\n",
       "       [ 4.9],\n",
       "       [ 5. ],\n",
       "       [ 5.1],\n",
       "       [ 5.2],\n",
       "       [ 5.3],\n",
       "       [ 5.4],\n",
       "       [ 5.5],\n",
       "       [ 5.6],\n",
       "       [ 5.7],\n",
       "       [ 5.8],\n",
       "       [ 5.9],\n",
       "       [ 6. ],\n",
       "       [ 6.1],\n",
       "       [ 6.2],\n",
       "       [ 6.3],\n",
       "       [ 6.4],\n",
       "       [ 6.5],\n",
       "       [ 6.6],\n",
       "       [ 6.7],\n",
       "       [ 6.8],\n",
       "       [ 6.9],\n",
       "       [ 7. ],\n",
       "       [ 7.1],\n",
       "       [ 7.2],\n",
       "       [ 7.3],\n",
       "       [ 7.4],\n",
       "       [ 7.5],\n",
       "       [ 7.6],\n",
       "       [ 7.7],\n",
       "       [ 7.8],\n",
       "       [ 7.9],\n",
       "       [ 8. ],\n",
       "       [ 8.1],\n",
       "       [ 8.2],\n",
       "       [ 8.3],\n",
       "       [ 8.4],\n",
       "       [ 8.5],\n",
       "       [ 8.6],\n",
       "       [ 8.7],\n",
       "       [ 8.8],\n",
       "       [ 8.9],\n",
       "       [ 9. ],\n",
       "       [ 9.1],\n",
       "       [ 9.2],\n",
       "       [ 9.3],\n",
       "       [ 9.4],\n",
       "       [ 9.5],\n",
       "       [ 9.6],\n",
       "       [ 9.7],\n",
       "       [ 9.8],\n",
       "       [ 9.9],\n",
       "       [10. ],\n",
       "       [10.1],\n",
       "       [10.2],\n",
       "       [10.3],\n",
       "       [10.4],\n",
       "       [10.5]])"
      ]
     },
     "execution_count": 73,
     "metadata": {},
     "output_type": "execute_result"
    }
   ],
   "source": [
    "x2_grid"
   ]
  },
  {
   "cell_type": "code",
   "execution_count": 74,
   "metadata": {},
   "outputs": [
    {
     "data": {
      "image/png": "[encoded data removed]",
      "text/plain": [
       "<Figure size 432x288 with 1 Axes>"
      ]
     },
     "metadata": {
      "needs_background": "light"
     },
     "output_type": "display_data"
    }
   ],
   "source": [
    "x2_grid = np.arange(min(scaler_x.inverse_transform(x_scaled)), max(scaler_x.inverse_transform(x_scaled)), 0.1)\n",
    "x2_grid = x2_grid.reshape((len(x2_grid), 1))\n",
    "plt.scatter(scaler_x.inverse_transform(x_scaled), scaler_y.inverse_transform(y_scaled), color = 'orange', label='original model')\n",
    "plt.plot(x2_grid, scaler_y.inverse_transform(svr_reg.predict(x2_grid)), color = 'purple', label='predicted model')\n",
    "plt.legend()\n",
    "plt.title(\"SVR model\")\n",
    "plt.xlabel(\"X - column\")\n",
    "plt.ylabel(\"Y - column\")\n",
    "plt.show()"
   ]
  },
  {
   "cell_type": "code",
   "execution_count": 75,
   "metadata": {},
   "outputs": [],
   "source": [
    "# If previous model is more better fitted then we can use that model"
   ]
  },
  {
   "cell_type": "markdown",
   "metadata": {},
   "source": [
    "### Predicting new results in SVR model"
   ]
  },
  {
   "cell_type": "code",
   "execution_count": 76,
   "metadata": {},
   "outputs": [
    {
     "data": {
      "text/plain": [
       "array([-0.10574288])"
      ]
     },
     "execution_count": 76,
     "metadata": {},
     "output_type": "execute_result"
    }
   ],
   "source": [
    "svr_reg.predict([[3]])"
   ]
  },
  {
   "cell_type": "code",
   "execution_count": 77,
   "metadata": {},
   "outputs": [
    {
     "data": {
      "text/plain": [
       "array([74.68800136])"
      ]
     },
     "execution_count": 77,
     "metadata": {},
     "output_type": "execute_result"
    }
   ],
   "source": [
    "scaler_y.inverse_transform(svr_reg.predict(scaler_x.transform([[3]])))"
   ]
  },
  {
   "cell_type": "code",
   "execution_count": 78,
   "metadata": {},
   "outputs": [
    {
     "data": {
      "text/plain": [
       "array([0.12633381])"
      ]
     },
     "execution_count": 78,
     "metadata": {},
     "output_type": "execute_result"
    }
   ],
   "source": [
    "svr_reg.predict([[2.40]])"
   ]
  },
  {
   "cell_type": "code",
   "execution_count": 79,
   "metadata": {
    "scrolled": true
   },
   "outputs": [
    {
     "data": {
      "text/plain": [
       "array([68.6033239])"
      ]
     },
     "execution_count": 79,
     "metadata": {},
     "output_type": "execute_result"
    }
   ],
   "source": [
    "scaler_y.inverse_transform(svr_reg.predict(scaler_x.transform([[2.40]])))"
   ]
  },
  {
   "cell_type": "code",
   "execution_count": 80,
   "metadata": {},
   "outputs": [
    {
     "data": {
      "text/plain": [
       "array([77.97591136])"
      ]
     },
     "execution_count": 80,
     "metadata": {},
     "output_type": "execute_result"
    }
   ],
   "source": [
    "scaler_y.inverse_transform(svr_reg.predict(scaler_x.transform([[3.3]])))"
   ]
  },
  {
   "cell_type": "code",
   "execution_count": 81,
   "metadata": {},
   "outputs": [
    {
     "data": {
      "text/plain": [
       "array([80.17388525])"
      ]
     },
     "execution_count": 81,
     "metadata": {},
     "output_type": "execute_result"
    }
   ],
   "source": [
    "scaler_y.inverse_transform(svr_reg.predict(scaler_x.transform([[3.5]])))"
   ]
  },
  {
   "cell_type": "code",
   "execution_count": 82,
   "metadata": {},
   "outputs": [
    {
     "data": {
      "text/plain": [
       "array([84.43621931])"
      ]
     },
     "execution_count": 82,
     "metadata": {},
     "output_type": "execute_result"
    }
   ],
   "source": [
    "scaler_y.inverse_transform(svr_reg.predict(scaler_x.transform([[3.9]])))"
   ]
  },
  {
   "cell_type": "code",
   "execution_count": 83,
   "metadata": {},
   "outputs": [
    {
     "data": {
      "text/html": [
       "<div>\n",
       "<style scoped>\n",
       "    .dataframe tbody tr th:only-of-type {\n",
       "        vertical-align: middle;\n",
       "    }\n",
       "\n",
       "    .dataframe tbody tr th {\n",
       "        vertical-align: top;\n",
       "    }\n",
       "\n",
       "    .dataframe thead th {\n",
       "        text-align: right;\n",
       "    }\n",
       "</style>\n",
       "<table border=\"1\" class=\"dataframe\">\n",
       "  <thead>\n",
       "    <tr style=\"text-align: right;\">\n",
       "      <th></th>\n",
       "      <th>X</th>\n",
       "      <th>Y</th>\n",
       "    </tr>\n",
       "  </thead>\n",
       "  <tbody>\n",
       "    <tr>\n",
       "      <th>2</th>\n",
       "      <td>2.4</td>\n",
       "      <td>65</td>\n",
       "    </tr>\n",
       "  </tbody>\n",
       "</table>\n",
       "</div>"
      ],
      "text/plain": [
       "     X   Y\n",
       "2  2.4  65"
      ]
     },
     "execution_count": 83,
     "metadata": {},
     "output_type": "execute_result"
    }
   ],
   "source": [
    "df_2[df_2['X']==2.40]"
   ]
  },
  {
   "cell_type": "code",
   "execution_count": 84,
   "metadata": {},
   "outputs": [],
   "source": [
    "compare_2={'X':[2.40,3,3.3,3.5,3.9],\n",
    "         'Y':[65,'No value','No value','No value','No value'],\n",
    "         'Predicted_Y_svr':[68.60,74.69,77.98,80.17,84.44]}"
   ]
  },
  {
   "cell_type": "code",
   "execution_count": 85,
   "metadata": {},
   "outputs": [],
   "source": [
    "compare_table_2=pd.DataFrame(compare_2)"
   ]
  },
  {
   "cell_type": "code",
   "execution_count": 86,
   "metadata": {},
   "outputs": [
    {
     "data": {
      "text/html": [
       "<div>\n",
       "<style scoped>\n",
       "    .dataframe tbody tr th:only-of-type {\n",
       "        vertical-align: middle;\n",
       "    }\n",
       "\n",
       "    .dataframe tbody tr th {\n",
       "        vertical-align: top;\n",
       "    }\n",
       "\n",
       "    .dataframe thead th {\n",
       "        text-align: right;\n",
       "    }\n",
       "</style>\n",
       "<table border=\"1\" class=\"dataframe\">\n",
       "  <thead>\n",
       "    <tr style=\"text-align: right;\">\n",
       "      <th></th>\n",
       "      <th>X</th>\n",
       "      <th>Y</th>\n",
       "      <th>Predicted_Y_svr</th>\n",
       "    </tr>\n",
       "  </thead>\n",
       "  <tbody>\n",
       "    <tr>\n",
       "      <th>0</th>\n",
       "      <td>2.4</td>\n",
       "      <td>65</td>\n",
       "      <td>68.60</td>\n",
       "    </tr>\n",
       "    <tr>\n",
       "      <th>1</th>\n",
       "      <td>3.0</td>\n",
       "      <td>No value</td>\n",
       "      <td>74.69</td>\n",
       "    </tr>\n",
       "    <tr>\n",
       "      <th>2</th>\n",
       "      <td>3.3</td>\n",
       "      <td>No value</td>\n",
       "      <td>77.98</td>\n",
       "    </tr>\n",
       "    <tr>\n",
       "      <th>3</th>\n",
       "      <td>3.5</td>\n",
       "      <td>No value</td>\n",
       "      <td>80.17</td>\n",
       "    </tr>\n",
       "    <tr>\n",
       "      <th>4</th>\n",
       "      <td>3.9</td>\n",
       "      <td>No value</td>\n",
       "      <td>84.44</td>\n",
       "    </tr>\n",
       "  </tbody>\n",
       "</table>\n",
       "</div>"
      ],
      "text/plain": [
       "     X         Y  Predicted_Y_svr\n",
       "0  2.4        65            68.60\n",
       "1  3.0  No value            74.69\n",
       "2  3.3  No value            77.98\n",
       "3  3.5  No value            80.17\n",
       "4  3.9  No value            84.44"
      ]
     },
     "execution_count": 86,
     "metadata": {},
     "output_type": "execute_result"
    }
   ],
   "source": [
    "compare_table_2"
   ]
  },
  {
   "cell_type": "markdown",
   "metadata": {},
   "source": [
    "### R-squared"
   ]
  },
  {
   "cell_type": "code",
   "execution_count": 87,
   "metadata": {},
   "outputs": [],
   "source": [
    "y2_pred=svr_reg.predict(x_scaled)"
   ]
  },
  {
   "cell_type": "code",
   "execution_count": 88,
   "metadata": {},
   "outputs": [],
   "source": [
    "from sklearn.metrics import r2_score"
   ]
  },
  {
   "cell_type": "code",
   "execution_count": 89,
   "metadata": {},
   "outputs": [
    {
     "data": {
      "text/plain": [
       "0.6593051115595835"
      ]
     },
     "execution_count": 89,
     "metadata": {},
     "output_type": "execute_result"
    }
   ],
   "source": [
    "r2_score(y_scaled,y2_pred)"
   ]
  },
  {
   "cell_type": "markdown",
   "metadata": {},
   "source": [
    "# 3. Decision Tree Regression"
   ]
  },
  {
   "cell_type": "code",
   "execution_count": 90,
   "metadata": {},
   "outputs": [],
   "source": [
    "data_frame_3={'X':[0.9,2.3,2.4,4.7,5,6,6.4,6.55,6.58,7,7.2,7.8,7.84,8.1,8.16,8.19,10.3,10.6],\n",
    "              'Y':[9,70,65,94,93,99,101,104,100,96,94,105,108,111,90,97,101,103]}"
   ]
  },
  {
   "cell_type": "code",
   "execution_count": 91,
   "metadata": {},
   "outputs": [],
   "source": [
    "df_3=pd.DataFrame(data_frame_3)"
   ]
  },
  {
   "cell_type": "code",
   "execution_count": 92,
   "metadata": {},
   "outputs": [
    {
     "data": {
      "text/html": [
       "<div>\n",
       "<style scoped>\n",
       "    .dataframe tbody tr th:only-of-type {\n",
       "        vertical-align: middle;\n",
       "    }\n",
       "\n",
       "    .dataframe tbody tr th {\n",
       "        vertical-align: top;\n",
       "    }\n",
       "\n",
       "    .dataframe thead th {\n",
       "        text-align: right;\n",
       "    }\n",
       "</style>\n",
       "<table border=\"1\" class=\"dataframe\">\n",
       "  <thead>\n",
       "    <tr style=\"text-align: right;\">\n",
       "      <th></th>\n",
       "      <th>X</th>\n",
       "      <th>Y</th>\n",
       "    </tr>\n",
       "  </thead>\n",
       "  <tbody>\n",
       "    <tr>\n",
       "      <th>0</th>\n",
       "      <td>0.90</td>\n",
       "      <td>9</td>\n",
       "    </tr>\n",
       "    <tr>\n",
       "      <th>1</th>\n",
       "      <td>2.30</td>\n",
       "      <td>70</td>\n",
       "    </tr>\n",
       "    <tr>\n",
       "      <th>2</th>\n",
       "      <td>2.40</td>\n",
       "      <td>65</td>\n",
       "    </tr>\n",
       "    <tr>\n",
       "      <th>3</th>\n",
       "      <td>4.70</td>\n",
       "      <td>94</td>\n",
       "    </tr>\n",
       "    <tr>\n",
       "      <th>4</th>\n",
       "      <td>5.00</td>\n",
       "      <td>93</td>\n",
       "    </tr>\n",
       "    <tr>\n",
       "      <th>5</th>\n",
       "      <td>6.00</td>\n",
       "      <td>99</td>\n",
       "    </tr>\n",
       "    <tr>\n",
       "      <th>6</th>\n",
       "      <td>6.40</td>\n",
       "      <td>101</td>\n",
       "    </tr>\n",
       "    <tr>\n",
       "      <th>7</th>\n",
       "      <td>6.55</td>\n",
       "      <td>104</td>\n",
       "    </tr>\n",
       "    <tr>\n",
       "      <th>8</th>\n",
       "      <td>6.58</td>\n",
       "      <td>100</td>\n",
       "    </tr>\n",
       "    <tr>\n",
       "      <th>9</th>\n",
       "      <td>7.00</td>\n",
       "      <td>96</td>\n",
       "    </tr>\n",
       "    <tr>\n",
       "      <th>10</th>\n",
       "      <td>7.20</td>\n",
       "      <td>94</td>\n",
       "    </tr>\n",
       "    <tr>\n",
       "      <th>11</th>\n",
       "      <td>7.80</td>\n",
       "      <td>105</td>\n",
       "    </tr>\n",
       "    <tr>\n",
       "      <th>12</th>\n",
       "      <td>7.84</td>\n",
       "      <td>108</td>\n",
       "    </tr>\n",
       "    <tr>\n",
       "      <th>13</th>\n",
       "      <td>8.10</td>\n",
       "      <td>111</td>\n",
       "    </tr>\n",
       "    <tr>\n",
       "      <th>14</th>\n",
       "      <td>8.16</td>\n",
       "      <td>90</td>\n",
       "    </tr>\n",
       "    <tr>\n",
       "      <th>15</th>\n",
       "      <td>8.19</td>\n",
       "      <td>97</td>\n",
       "    </tr>\n",
       "    <tr>\n",
       "      <th>16</th>\n",
       "      <td>10.30</td>\n",
       "      <td>101</td>\n",
       "    </tr>\n",
       "    <tr>\n",
       "      <th>17</th>\n",
       "      <td>10.60</td>\n",
       "      <td>103</td>\n",
       "    </tr>\n",
       "  </tbody>\n",
       "</table>\n",
       "</div>"
      ],
      "text/plain": [
       "        X    Y\n",
       "0    0.90    9\n",
       "1    2.30   70\n",
       "2    2.40   65\n",
       "3    4.70   94\n",
       "4    5.00   93\n",
       "5    6.00   99\n",
       "6    6.40  101\n",
       "7    6.55  104\n",
       "8    6.58  100\n",
       "9    7.00   96\n",
       "10   7.20   94\n",
       "11   7.80  105\n",
       "12   7.84  108\n",
       "13   8.10  111\n",
       "14   8.16   90\n",
       "15   8.19   97\n",
       "16  10.30  101\n",
       "17  10.60  103"
      ]
     },
     "execution_count": 92,
     "metadata": {},
     "output_type": "execute_result"
    }
   ],
   "source": [
    "df_3"
   ]
  },
  {
   "cell_type": "markdown",
   "metadata": {},
   "source": [
    "### Determining dependent and independent variables"
   ]
  },
  {
   "cell_type": "code",
   "execution_count": 93,
   "metadata": {},
   "outputs": [],
   "source": [
    "x_3=df_3.iloc[:,0:1].values\n",
    "y_3=df_3.iloc[:,-1].values"
   ]
  },
  {
   "cell_type": "code",
   "execution_count": 94,
   "metadata": {},
   "outputs": [
    {
     "data": {
      "text/plain": [
       "array([[ 0.9 ],\n",
       "       [ 2.3 ],\n",
       "       [ 2.4 ],\n",
       "       [ 4.7 ],\n",
       "       [ 5.  ],\n",
       "       [ 6.  ],\n",
       "       [ 6.4 ],\n",
       "       [ 6.55],\n",
       "       [ 6.58],\n",
       "       [ 7.  ],\n",
       "       [ 7.2 ],\n",
       "       [ 7.8 ],\n",
       "       [ 7.84],\n",
       "       [ 8.1 ],\n",
       "       [ 8.16],\n",
       "       [ 8.19],\n",
       "       [10.3 ],\n",
       "       [10.6 ]])"
      ]
     },
     "execution_count": 94,
     "metadata": {},
     "output_type": "execute_result"
    }
   ],
   "source": [
    "x_3"
   ]
  },
  {
   "cell_type": "code",
   "execution_count": 95,
   "metadata": {},
   "outputs": [
    {
     "data": {
      "text/plain": [
       "array([  9,  70,  65,  94,  93,  99, 101, 104, 100,  96,  94, 105, 108,\n",
       "       111,  90,  97, 101, 103], dtype=int64)"
      ]
     },
     "execution_count": 95,
     "metadata": {},
     "output_type": "execute_result"
    }
   ],
   "source": [
    "y_3"
   ]
  },
  {
   "cell_type": "markdown",
   "metadata": {},
   "source": [
    "### Training the Decision Tree  model"
   ]
  },
  {
   "cell_type": "code",
   "execution_count": 96,
   "metadata": {},
   "outputs": [
    {
     "data": {
      "text/plain": [
       "DecisionTreeRegressor(criterion='mse', max_depth=None, max_features=None,\n",
       "                      max_leaf_nodes=None, min_impurity_decrease=0.0,\n",
       "                      min_impurity_split=None, min_samples_leaf=1,\n",
       "                      min_samples_split=2, min_weight_fraction_leaf=0.0,\n",
       "                      presort=False, random_state=0, splitter='best')"
      ]
     },
     "execution_count": 96,
     "metadata": {},
     "output_type": "execute_result"
    }
   ],
   "source": [
    "from sklearn.tree import DecisionTreeRegressor\n",
    "tree_reg = DecisionTreeRegressor(random_state = 0)\n",
    "tree_reg.fit(x_3, y_3)"
   ]
  },
  {
   "cell_type": "markdown",
   "metadata": {},
   "source": [
    "### Visualization of Decision Tree model"
   ]
  },
  {
   "cell_type": "code",
   "execution_count": 97,
   "metadata": {
    "scrolled": true
   },
   "outputs": [
    {
     "data": {
      "image/png": "[encoded data removed]",
      "text/plain": [
       "<Figure size 432x288 with 1 Axes>"
      ]
     },
     "metadata": {
      "needs_background": "light"
     },
     "output_type": "display_data"
    }
   ],
   "source": [
    "plt.scatter(x_3, y_3, color = 'orange',label=\"original model\")\n",
    "plt.plot(x_3, tree_reg.predict(x_3), color = 'blue',label=\"predicted model\")\n",
    "plt.legend()\n",
    "plt.title(\"Decision Tree Regression\")\n",
    "plt.xlabel(\"X - column\")\n",
    "plt.ylabel(\"Y - column\")\n",
    "plt.show()"
   ]
  },
  {
   "cell_type": "code",
   "execution_count": 98,
   "metadata": {},
   "outputs": [],
   "source": [
    "# We see that, decision tree model is overfitted"
   ]
  },
  {
   "cell_type": "markdown",
   "metadata": {},
   "source": [
    "###  Decision Tree Regression with x3_grid"
   ]
  },
  {
   "cell_type": "code",
   "execution_count": 99,
   "metadata": {},
   "outputs": [],
   "source": [
    "# To obtain different model we grid variables"
   ]
  },
  {
   "cell_type": "code",
   "execution_count": 100,
   "metadata": {},
   "outputs": [],
   "source": [
    "x3_grid = np.arange(min(x_3), max(x_3), 0.01)\n",
    "x3_grid = x3_grid.reshape((len(x3_grid), 1))"
   ]
  },
  {
   "cell_type": "code",
   "execution_count": 101,
   "metadata": {},
   "outputs": [
    {
     "data": {
      "text/plain": [
       "array([[ 0.9 ],\n",
       "       [ 0.91],\n",
       "       [ 0.92],\n",
       "       [ 0.93],\n",
       "       [ 0.94],\n",
       "       [ 0.95],\n",
       "       [ 0.96],\n",
       "       [ 0.97],\n",
       "       [ 0.98],\n",
       "       [ 0.99],\n",
       "       [ 1.  ],\n",
       "       [ 1.01],\n",
       "       [ 1.02],\n",
       "       [ 1.03],\n",
       "       [ 1.04],\n",
       "       [ 1.05],\n",
       "       [ 1.06],\n",
       "       [ 1.07],\n",
       "       [ 1.08],\n",
       "       [ 1.09],\n",
       "       [ 1.1 ],\n",
       "       [ 1.11],\n",
       "       [ 1.12],\n",
       "       [ 1.13],\n",
       "       [ 1.14],\n",
       "       [ 1.15],\n",
       "       [ 1.16],\n",
       "       [ 1.17],\n",
       "       [ 1.18],\n",
       "       [ 1.19],\n",
       "       [ 1.2 ],\n",
       "       [ 1.21],\n",
       "       [ 1.22],\n",
       "       [ 1.23],\n",
       "       [ 1.24],\n",
       "       [ 1.25],\n",
       "       [ 1.26],\n",
       "       [ 1.27],\n",
       "       [ 1.28],\n",
       "       [ 1.29],\n",
       "       [ 1.3 ],\n",
       "       [ 1.31],\n",
       "       [ 1.32],\n",
       "       [ 1.33],\n",
       "       [ 1.34],\n",
       "       [ 1.35],\n",
       "       [ 1.36],\n",
       "       [ 1.37],\n",
       "       [ 1.38],\n",
       "       [ 1.39],\n",
       "       [ 1.4 ],\n",
       "       [ 1.41],\n",
       "       [ 1.42],\n",
       "       [ 1.43],\n",
       "       [ 1.44],\n",
       "       [ 1.45],\n",
       "       [ 1.46],\n",
       "       [ 1.47],\n",
       "       [ 1.48],\n",
       "       [ 1.49],\n",
       "       [ 1.5 ],\n",
       "       [ 1.51],\n",
       "       [ 1.52],\n",
       "       [ 1.53],\n",
       "       [ 1.54],\n",
       "       [ 1.55],\n",
       "       [ 1.56],\n",
       "       [ 1.57],\n",
       "       [ 1.58],\n",
       "       [ 1.59],\n",
       "       [ 1.6 ],\n",
       "       [ 1.61],\n",
       "       [ 1.62],\n",
       "       [ 1.63],\n",
       "       [ 1.64],\n",
       "       [ 1.65],\n",
       "       [ 1.66],\n",
       "       [ 1.67],\n",
       "       [ 1.68],\n",
       "       [ 1.69],\n",
       "       [ 1.7 ],\n",
       "       [ 1.71],\n",
       "       [ 1.72],\n",
       "       [ 1.73],\n",
       "       [ 1.74],\n",
       "       [ 1.75],\n",
       "       [ 1.76],\n",
       "       [ 1.77],\n",
       "       [ 1.78],\n",
       "       [ 1.79],\n",
       "       [ 1.8 ],\n",
       "       [ 1.81],\n",
       "       [ 1.82],\n",
       "       [ 1.83],\n",
       "       [ 1.84],\n",
       "       [ 1.85],\n",
       "       [ 1.86],\n",
       "       [ 1.87],\n",
       "       [ 1.88],\n",
       "       [ 1.89],\n",
       "       [ 1.9 ],\n",
       "       [ 1.91],\n",
       "       [ 1.92],\n",
       "       [ 1.93],\n",
       "       [ 1.94],\n",
       "       [ 1.95],\n",
       "       [ 1.96],\n",
       "       [ 1.97],\n",
       "       [ 1.98],\n",
       "       [ 1.99],\n",
       "       [ 2.  ],\n",
       "       [ 2.01],\n",
       "       [ 2.02],\n",
       "       [ 2.03],\n",
       "       [ 2.04],\n",
       "       [ 2.05],\n",
       "       [ 2.06],\n",
       "       [ 2.07],\n",
       "       [ 2.08],\n",
       "       [ 2.09],\n",
       "       [ 2.1 ],\n",
       "       [ 2.11],\n",
       "       [ 2.12],\n",
       "       [ 2.13],\n",
       "       [ 2.14],\n",
       "       [ 2.15],\n",
       "       [ 2.16],\n",
       "       [ 2.17],\n",
       "       [ 2.18],\n",
       "       [ 2.19],\n",
       "       [ 2.2 ],\n",
       "       [ 2.21],\n",
       "       [ 2.22],\n",
       "       [ 2.23],\n",
       "       [ 2.24],\n",
       "       [ 2.25],\n",
       "       [ 2.26],\n",
       "       [ 2.27],\n",
       "       [ 2.28],\n",
       "       [ 2.29],\n",
       "       [ 2.3 ],\n",
       "       [ 2.31],\n",
       "       [ 2.32],\n",
       "       [ 2.33],\n",
       "       [ 2.34],\n",
       "       [ 2.35],\n",
       "       [ 2.36],\n",
       "       [ 2.37],\n",
       "       [ 2.38],\n",
       "       [ 2.39],\n",
       "       [ 2.4 ],\n",
       "       [ 2.41],\n",
       "       [ 2.42],\n",
       "       [ 2.43],\n",
       "       [ 2.44],\n",
       "       [ 2.45],\n",
       "       [ 2.46],\n",
       "       [ 2.47],\n",
       "       [ 2.48],\n",
       "       [ 2.49],\n",
       "       [ 2.5 ],\n",
       "       [ 2.51],\n",
       "       [ 2.52],\n",
       "       [ 2.53],\n",
       "       [ 2.54],\n",
       "       [ 2.55],\n",
       "       [ 2.56],\n",
       "       [ 2.57],\n",
       "       [ 2.58],\n",
       "       [ 2.59],\n",
       "       [ 2.6 ],\n",
       "       [ 2.61],\n",
       "       [ 2.62],\n",
       "       [ 2.63],\n",
       "       [ 2.64],\n",
       "       [ 2.65],\n",
       "       [ 2.66],\n",
       "       [ 2.67],\n",
       "       [ 2.68],\n",
       "       [ 2.69],\n",
       "       [ 2.7 ],\n",
       "       [ 2.71],\n",
       "       [ 2.72],\n",
       "       [ 2.73],\n",
       "       [ 2.74],\n",
       "       [ 2.75],\n",
       "       [ 2.76],\n",
       "       [ 2.77],\n",
       "       [ 2.78],\n",
       "       [ 2.79],\n",
       "       [ 2.8 ],\n",
       "       [ 2.81],\n",
       "       [ 2.82],\n",
       "       [ 2.83],\n",
       "       [ 2.84],\n",
       "       [ 2.85],\n",
       "       [ 2.86],\n",
       "       [ 2.87],\n",
       "       [ 2.88],\n",
       "       [ 2.89],\n",
       "       [ 2.9 ],\n",
       "       [ 2.91],\n",
       "       [ 2.92],\n",
       "       [ 2.93],\n",
       "       [ 2.94],\n",
       "       [ 2.95],\n",
       "       [ 2.96],\n",
       "       [ 2.97],\n",
       "       [ 2.98],\n",
       "       [ 2.99],\n",
       "       [ 3.  ],\n",
       "       [ 3.01],\n",
       "       [ 3.02],\n",
       "       [ 3.03],\n",
       "       [ 3.04],\n",
       "       [ 3.05],\n",
       "       [ 3.06],\n",
       "       [ 3.07],\n",
       "       [ 3.08],\n",
       "       [ 3.09],\n",
       "       [ 3.1 ],\n",
       "       [ 3.11],\n",
       "       [ 3.12],\n",
       "       [ 3.13],\n",
       "       [ 3.14],\n",
       "       [ 3.15],\n",
       "       [ 3.16],\n",
       "       [ 3.17],\n",
       "       [ 3.18],\n",
       "       [ 3.19],\n",
       "       [ 3.2 ],\n",
       "       [ 3.21],\n",
       "       [ 3.22],\n",
       "       [ 3.23],\n",
       "       [ 3.24],\n",
       "       [ 3.25],\n",
       "       [ 3.26],\n",
       "       [ 3.27],\n",
       "       [ 3.28],\n",
       "       [ 3.29],\n",
       "       [ 3.3 ],\n",
       "       [ 3.31],\n",
       "       [ 3.32],\n",
       "       [ 3.33],\n",
       "       [ 3.34],\n",
       "       [ 3.35],\n",
       "       [ 3.36],\n",
       "       [ 3.37],\n",
       "       [ 3.38],\n",
       "       [ 3.39],\n",
       "       [ 3.4 ],\n",
       "       [ 3.41],\n",
       "       [ 3.42],\n",
       "       [ 3.43],\n",
       "       [ 3.44],\n",
       "       [ 3.45],\n",
       "       [ 3.46],\n",
       "       [ 3.47],\n",
       "       [ 3.48],\n",
       "       [ 3.49],\n",
       "       [ 3.5 ],\n",
       "       [ 3.51],\n",
       "       [ 3.52],\n",
       "       [ 3.53],\n",
       "       [ 3.54],\n",
       "       [ 3.55],\n",
       "       [ 3.56],\n",
       "       [ 3.57],\n",
       "       [ 3.58],\n",
       "       [ 3.59],\n",
       "       [ 3.6 ],\n",
       "       [ 3.61],\n",
       "       [ 3.62],\n",
       "       [ 3.63],\n",
       "       [ 3.64],\n",
       "       [ 3.65],\n",
       "       [ 3.66],\n",
       "       [ 3.67],\n",
       "       [ 3.68],\n",
       "       [ 3.69],\n",
       "       [ 3.7 ],\n",
       "       [ 3.71],\n",
       "       [ 3.72],\n",
       "       [ 3.73],\n",
       "       [ 3.74],\n",
       "       [ 3.75],\n",
       "       [ 3.76],\n",
       "       [ 3.77],\n",
       "       [ 3.78],\n",
       "       [ 3.79],\n",
       "       [ 3.8 ],\n",
       "       [ 3.81],\n",
       "       [ 3.82],\n",
       "       [ 3.83],\n",
       "       [ 3.84],\n",
       "       [ 3.85],\n",
       "       [ 3.86],\n",
       "       [ 3.87],\n",
       "       [ 3.88],\n",
       "       [ 3.89],\n",
       "       [ 3.9 ],\n",
       "       [ 3.91],\n",
       "       [ 3.92],\n",
       "       [ 3.93],\n",
       "       [ 3.94],\n",
       "       [ 3.95],\n",
       "       [ 3.96],\n",
       "       [ 3.97],\n",
       "       [ 3.98],\n",
       "       [ 3.99],\n",
       "       [ 4.  ],\n",
       "       [ 4.01],\n",
       "       [ 4.02],\n",
       "       [ 4.03],\n",
       "       [ 4.04],\n",
       "       [ 4.05],\n",
       "       [ 4.06],\n",
       "       [ 4.07],\n",
       "       [ 4.08],\n",
       "       [ 4.09],\n",
       "       [ 4.1 ],\n",
       "       [ 4.11],\n",
       "       [ 4.12],\n",
       "       [ 4.13],\n",
       "       [ 4.14],\n",
       "       [ 4.15],\n",
       "       [ 4.16],\n",
       "       [ 4.17],\n",
       "       [ 4.18],\n",
       "       [ 4.19],\n",
       "       [ 4.2 ],\n",
       "       [ 4.21],\n",
       "       [ 4.22],\n",
       "       [ 4.23],\n",
       "       [ 4.24],\n",
       "       [ 4.25],\n",
       "       [ 4.26],\n",
       "       [ 4.27],\n",
       "       [ 4.28],\n",
       "       [ 4.29],\n",
       "       [ 4.3 ],\n",
       "       [ 4.31],\n",
       "       [ 4.32],\n",
       "       [ 4.33],\n",
       "       [ 4.34],\n",
       "       [ 4.35],\n",
       "       [ 4.36],\n",
       "       [ 4.37],\n",
       "       [ 4.38],\n",
       "       [ 4.39],\n",
       "       [ 4.4 ],\n",
       "       [ 4.41],\n",
       "       [ 4.42],\n",
       "       [ 4.43],\n",
       "       [ 4.44],\n",
       "       [ 4.45],\n",
       "       [ 4.46],\n",
       "       [ 4.47],\n",
       "       [ 4.48],\n",
       "       [ 4.49],\n",
       "       [ 4.5 ],\n",
       "       [ 4.51],\n",
       "       [ 4.52],\n",
       "       [ 4.53],\n",
       "       [ 4.54],\n",
       "       [ 4.55],\n",
       "       [ 4.56],\n",
       "       [ 4.57],\n",
       "       [ 4.58],\n",
       "       [ 4.59],\n",
       "       [ 4.6 ],\n",
       "       [ 4.61],\n",
       "       [ 4.62],\n",
       "       [ 4.63],\n",
       "       [ 4.64],\n",
       "       [ 4.65],\n",
       "       [ 4.66],\n",
       "       [ 4.67],\n",
       "       [ 4.68],\n",
       "       [ 4.69],\n",
       "       [ 4.7 ],\n",
       "       [ 4.71],\n",
       "       [ 4.72],\n",
       "       [ 4.73],\n",
       "       [ 4.74],\n",
       "       [ 4.75],\n",
       "       [ 4.76],\n",
       "       [ 4.77],\n",
       "       [ 4.78],\n",
       "       [ 4.79],\n",
       "       [ 4.8 ],\n",
       "       [ 4.81],\n",
       "       [ 4.82],\n",
       "       [ 4.83],\n",
       "       [ 4.84],\n",
       "       [ 4.85],\n",
       "       [ 4.86],\n",
       "       [ 4.87],\n",
       "       [ 4.88],\n",
       "       [ 4.89],\n",
       "       [ 4.9 ],\n",
       "       [ 4.91],\n",
       "       [ 4.92],\n",
       "       [ 4.93],\n",
       "       [ 4.94],\n",
       "       [ 4.95],\n",
       "       [ 4.96],\n",
       "       [ 4.97],\n",
       "       [ 4.98],\n",
       "       [ 4.99],\n",
       "       [ 5.  ],\n",
       "       [ 5.01],\n",
       "       [ 5.02],\n",
       "       [ 5.03],\n",
       "       [ 5.04],\n",
       "       [ 5.05],\n",
       "       [ 5.06],\n",
       "       [ 5.07],\n",
       "       [ 5.08],\n",
       "       [ 5.09],\n",
       "       [ 5.1 ],\n",
       "       [ 5.11],\n",
       "       [ 5.12],\n",
       "       [ 5.13],\n",
       "       [ 5.14],\n",
       "       [ 5.15],\n",
       "       [ 5.16],\n",
       "       [ 5.17],\n",
       "       [ 5.18],\n",
       "       [ 5.19],\n",
       "       [ 5.2 ],\n",
       "       [ 5.21],\n",
       "       [ 5.22],\n",
       "       [ 5.23],\n",
       "       [ 5.24],\n",
       "       [ 5.25],\n",
       "       [ 5.26],\n",
       "       [ 5.27],\n",
       "       [ 5.28],\n",
       "       [ 5.29],\n",
       "       [ 5.3 ],\n",
       "       [ 5.31],\n",
       "       [ 5.32],\n",
       "       [ 5.33],\n",
       "       [ 5.34],\n",
       "       [ 5.35],\n",
       "       [ 5.36],\n",
       "       [ 5.37],\n",
       "       [ 5.38],\n",
       "       [ 5.39],\n",
       "       [ 5.4 ],\n",
       "       [ 5.41],\n",
       "       [ 5.42],\n",
       "       [ 5.43],\n",
       "       [ 5.44],\n",
       "       [ 5.45],\n",
       "       [ 5.46],\n",
       "       [ 5.47],\n",
       "       [ 5.48],\n",
       "       [ 5.49],\n",
       "       [ 5.5 ],\n",
       "       [ 5.51],\n",
       "       [ 5.52],\n",
       "       [ 5.53],\n",
       "       [ 5.54],\n",
       "       [ 5.55],\n",
       "       [ 5.56],\n",
       "       [ 5.57],\n",
       "       [ 5.58],\n",
       "       [ 5.59],\n",
       "       [ 5.6 ],\n",
       "       [ 5.61],\n",
       "       [ 5.62],\n",
       "       [ 5.63],\n",
       "       [ 5.64],\n",
       "       [ 5.65],\n",
       "       [ 5.66],\n",
       "       [ 5.67],\n",
       "       [ 5.68],\n",
       "       [ 5.69],\n",
       "       [ 5.7 ],\n",
       "       [ 5.71],\n",
       "       [ 5.72],\n",
       "       [ 5.73],\n",
       "       [ 5.74],\n",
       "       [ 5.75],\n",
       "       [ 5.76],\n",
       "       [ 5.77],\n",
       "       [ 5.78],\n",
       "       [ 5.79],\n",
       "       [ 5.8 ],\n",
       "       [ 5.81],\n",
       "       [ 5.82],\n",
       "       [ 5.83],\n",
       "       [ 5.84],\n",
       "       [ 5.85],\n",
       "       [ 5.86],\n",
       "       [ 5.87],\n",
       "       [ 5.88],\n",
       "       [ 5.89],\n",
       "       [ 5.9 ],\n",
       "       [ 5.91],\n",
       "       [ 5.92],\n",
       "       [ 5.93],\n",
       "       [ 5.94],\n",
       "       [ 5.95],\n",
       "       [ 5.96],\n",
       "       [ 5.97],\n",
       "       [ 5.98],\n",
       "       [ 5.99],\n",
       "       [ 6.  ],\n",
       "       [ 6.01],\n",
       "       [ 6.02],\n",
       "       [ 6.03],\n",
       "       [ 6.04],\n",
       "       [ 6.05],\n",
       "       [ 6.06],\n",
       "       [ 6.07],\n",
       "       [ 6.08],\n",
       "       [ 6.09],\n",
       "       [ 6.1 ],\n",
       "       [ 6.11],\n",
       "       [ 6.12],\n",
       "       [ 6.13],\n",
       "       [ 6.14],\n",
       "       [ 6.15],\n",
       "       [ 6.16],\n",
       "       [ 6.17],\n",
       "       [ 6.18],\n",
       "       [ 6.19],\n",
       "       [ 6.2 ],\n",
       "       [ 6.21],\n",
       "       [ 6.22],\n",
       "       [ 6.23],\n",
       "       [ 6.24],\n",
       "       [ 6.25],\n",
       "       [ 6.26],\n",
       "       [ 6.27],\n",
       "       [ 6.28],\n",
       "       [ 6.29],\n",
       "       [ 6.3 ],\n",
       "       [ 6.31],\n",
       "       [ 6.32],\n",
       "       [ 6.33],\n",
       "       [ 6.34],\n",
       "       [ 6.35],\n",
       "       [ 6.36],\n",
       "       [ 6.37],\n",
       "       [ 6.38],\n",
       "       [ 6.39],\n",
       "       [ 6.4 ],\n",
       "       [ 6.41],\n",
       "       [ 6.42],\n",
       "       [ 6.43],\n",
       "       [ 6.44],\n",
       "       [ 6.45],\n",
       "       [ 6.46],\n",
       "       [ 6.47],\n",
       "       [ 6.48],\n",
       "       [ 6.49],\n",
       "       [ 6.5 ],\n",
       "       [ 6.51],\n",
       "       [ 6.52],\n",
       "       [ 6.53],\n",
       "       [ 6.54],\n",
       "       [ 6.55],\n",
       "       [ 6.56],\n",
       "       [ 6.57],\n",
       "       [ 6.58],\n",
       "       [ 6.59],\n",
       "       [ 6.6 ],\n",
       "       [ 6.61],\n",
       "       [ 6.62],\n",
       "       [ 6.63],\n",
       "       [ 6.64],\n",
       "       [ 6.65],\n",
       "       [ 6.66],\n",
       "       [ 6.67],\n",
       "       [ 6.68],\n",
       "       [ 6.69],\n",
       "       [ 6.7 ],\n",
       "       [ 6.71],\n",
       "       [ 6.72],\n",
       "       [ 6.73],\n",
       "       [ 6.74],\n",
       "       [ 6.75],\n",
       "       [ 6.76],\n",
       "       [ 6.77],\n",
       "       [ 6.78],\n",
       "       [ 6.79],\n",
       "       [ 6.8 ],\n",
       "       [ 6.81],\n",
       "       [ 6.82],\n",
       "       [ 6.83],\n",
       "       [ 6.84],\n",
       "       [ 6.85],\n",
       "       [ 6.86],\n",
       "       [ 6.87],\n",
       "       [ 6.88],\n",
       "       [ 6.89],\n",
       "       [ 6.9 ],\n",
       "       [ 6.91],\n",
       "       [ 6.92],\n",
       "       [ 6.93],\n",
       "       [ 6.94],\n",
       "       [ 6.95],\n",
       "       [ 6.96],\n",
       "       [ 6.97],\n",
       "       [ 6.98],\n",
       "       [ 6.99],\n",
       "       [ 7.  ],\n",
       "       [ 7.01],\n",
       "       [ 7.02],\n",
       "       [ 7.03],\n",
       "       [ 7.04],\n",
       "       [ 7.05],\n",
       "       [ 7.06],\n",
       "       [ 7.07],\n",
       "       [ 7.08],\n",
       "       [ 7.09],\n",
       "       [ 7.1 ],\n",
       "       [ 7.11],\n",
       "       [ 7.12],\n",
       "       [ 7.13],\n",
       "       [ 7.14],\n",
       "       [ 7.15],\n",
       "       [ 7.16],\n",
       "       [ 7.17],\n",
       "       [ 7.18],\n",
       "       [ 7.19],\n",
       "       [ 7.2 ],\n",
       "       [ 7.21],\n",
       "       [ 7.22],\n",
       "       [ 7.23],\n",
       "       [ 7.24],\n",
       "       [ 7.25],\n",
       "       [ 7.26],\n",
       "       [ 7.27],\n",
       "       [ 7.28],\n",
       "       [ 7.29],\n",
       "       [ 7.3 ],\n",
       "       [ 7.31],\n",
       "       [ 7.32],\n",
       "       [ 7.33],\n",
       "       [ 7.34],\n",
       "       [ 7.35],\n",
       "       [ 7.36],\n",
       "       [ 7.37],\n",
       "       [ 7.38],\n",
       "       [ 7.39],\n",
       "       [ 7.4 ],\n",
       "       [ 7.41],\n",
       "       [ 7.42],\n",
       "       [ 7.43],\n",
       "       [ 7.44],\n",
       "       [ 7.45],\n",
       "       [ 7.46],\n",
       "       [ 7.47],\n",
       "       [ 7.48],\n",
       "       [ 7.49],\n",
       "       [ 7.5 ],\n",
       "       [ 7.51],\n",
       "       [ 7.52],\n",
       "       [ 7.53],\n",
       "       [ 7.54],\n",
       "       [ 7.55],\n",
       "       [ 7.56],\n",
       "       [ 7.57],\n",
       "       [ 7.58],\n",
       "       [ 7.59],\n",
       "       [ 7.6 ],\n",
       "       [ 7.61],\n",
       "       [ 7.62],\n",
       "       [ 7.63],\n",
       "       [ 7.64],\n",
       "       [ 7.65],\n",
       "       [ 7.66],\n",
       "       [ 7.67],\n",
       "       [ 7.68],\n",
       "       [ 7.69],\n",
       "       [ 7.7 ],\n",
       "       [ 7.71],\n",
       "       [ 7.72],\n",
       "       [ 7.73],\n",
       "       [ 7.74],\n",
       "       [ 7.75],\n",
       "       [ 7.76],\n",
       "       [ 7.77],\n",
       "       [ 7.78],\n",
       "       [ 7.79],\n",
       "       [ 7.8 ],\n",
       "       [ 7.81],\n",
       "       [ 7.82],\n",
       "       [ 7.83],\n",
       "       [ 7.84],\n",
       "       [ 7.85],\n",
       "       [ 7.86],\n",
       "       [ 7.87],\n",
       "       [ 7.88],\n",
       "       [ 7.89],\n",
       "       [ 7.9 ],\n",
       "       [ 7.91],\n",
       "       [ 7.92],\n",
       "       [ 7.93],\n",
       "       [ 7.94],\n",
       "       [ 7.95],\n",
       "       [ 7.96],\n",
       "       [ 7.97],\n",
       "       [ 7.98],\n",
       "       [ 7.99],\n",
       "       [ 8.  ],\n",
       "       [ 8.01],\n",
       "       [ 8.02],\n",
       "       [ 8.03],\n",
       "       [ 8.04],\n",
       "       [ 8.05],\n",
       "       [ 8.06],\n",
       "       [ 8.07],\n",
       "       [ 8.08],\n",
       "       [ 8.09],\n",
       "       [ 8.1 ],\n",
       "       [ 8.11],\n",
       "       [ 8.12],\n",
       "       [ 8.13],\n",
       "       [ 8.14],\n",
       "       [ 8.15],\n",
       "       [ 8.16],\n",
       "       [ 8.17],\n",
       "       [ 8.18],\n",
       "       [ 8.19],\n",
       "       [ 8.2 ],\n",
       "       [ 8.21],\n",
       "       [ 8.22],\n",
       "       [ 8.23],\n",
       "       [ 8.24],\n",
       "       [ 8.25],\n",
       "       [ 8.26],\n",
       "       [ 8.27],\n",
       "       [ 8.28],\n",
       "       [ 8.29],\n",
       "       [ 8.3 ],\n",
       "       [ 8.31],\n",
       "       [ 8.32],\n",
       "       [ 8.33],\n",
       "       [ 8.34],\n",
       "       [ 8.35],\n",
       "       [ 8.36],\n",
       "       [ 8.37],\n",
       "       [ 8.38],\n",
       "       [ 8.39],\n",
       "       [ 8.4 ],\n",
       "       [ 8.41],\n",
       "       [ 8.42],\n",
       "       [ 8.43],\n",
       "       [ 8.44],\n",
       "       [ 8.45],\n",
       "       [ 8.46],\n",
       "       [ 8.47],\n",
       "       [ 8.48],\n",
       "       [ 8.49],\n",
       "       [ 8.5 ],\n",
       "       [ 8.51],\n",
       "       [ 8.52],\n",
       "       [ 8.53],\n",
       "       [ 8.54],\n",
       "       [ 8.55],\n",
       "       [ 8.56],\n",
       "       [ 8.57],\n",
       "       [ 8.58],\n",
       "       [ 8.59],\n",
       "       [ 8.6 ],\n",
       "       [ 8.61],\n",
       "       [ 8.62],\n",
       "       [ 8.63],\n",
       "       [ 8.64],\n",
       "       [ 8.65],\n",
       "       [ 8.66],\n",
       "       [ 8.67],\n",
       "       [ 8.68],\n",
       "       [ 8.69],\n",
       "       [ 8.7 ],\n",
       "       [ 8.71],\n",
       "       [ 8.72],\n",
       "       [ 8.73],\n",
       "       [ 8.74],\n",
       "       [ 8.75],\n",
       "       [ 8.76],\n",
       "       [ 8.77],\n",
       "       [ 8.78],\n",
       "       [ 8.79],\n",
       "       [ 8.8 ],\n",
       "       [ 8.81],\n",
       "       [ 8.82],\n",
       "       [ 8.83],\n",
       "       [ 8.84],\n",
       "       [ 8.85],\n",
       "       [ 8.86],\n",
       "       [ 8.87],\n",
       "       [ 8.88],\n",
       "       [ 8.89],\n",
       "       [ 8.9 ],\n",
       "       [ 8.91],\n",
       "       [ 8.92],\n",
       "       [ 8.93],\n",
       "       [ 8.94],\n",
       "       [ 8.95],\n",
       "       [ 8.96],\n",
       "       [ 8.97],\n",
       "       [ 8.98],\n",
       "       [ 8.99],\n",
       "       [ 9.  ],\n",
       "       [ 9.01],\n",
       "       [ 9.02],\n",
       "       [ 9.03],\n",
       "       [ 9.04],\n",
       "       [ 9.05],\n",
       "       [ 9.06],\n",
       "       [ 9.07],\n",
       "       [ 9.08],\n",
       "       [ 9.09],\n",
       "       [ 9.1 ],\n",
       "       [ 9.11],\n",
       "       [ 9.12],\n",
       "       [ 9.13],\n",
       "       [ 9.14],\n",
       "       [ 9.15],\n",
       "       [ 9.16],\n",
       "       [ 9.17],\n",
       "       [ 9.18],\n",
       "       [ 9.19],\n",
       "       [ 9.2 ],\n",
       "       [ 9.21],\n",
       "       [ 9.22],\n",
       "       [ 9.23],\n",
       "       [ 9.24],\n",
       "       [ 9.25],\n",
       "       [ 9.26],\n",
       "       [ 9.27],\n",
       "       [ 9.28],\n",
       "       [ 9.29],\n",
       "       [ 9.3 ],\n",
       "       [ 9.31],\n",
       "       [ 9.32],\n",
       "       [ 9.33],\n",
       "       [ 9.34],\n",
       "       [ 9.35],\n",
       "       [ 9.36],\n",
       "       [ 9.37],\n",
       "       [ 9.38],\n",
       "       [ 9.39],\n",
       "       [ 9.4 ],\n",
       "       [ 9.41],\n",
       "       [ 9.42],\n",
       "       [ 9.43],\n",
       "       [ 9.44],\n",
       "       [ 9.45],\n",
       "       [ 9.46],\n",
       "       [ 9.47],\n",
       "       [ 9.48],\n",
       "       [ 9.49],\n",
       "       [ 9.5 ],\n",
       "       [ 9.51],\n",
       "       [ 9.52],\n",
       "       [ 9.53],\n",
       "       [ 9.54],\n",
       "       [ 9.55],\n",
       "       [ 9.56],\n",
       "       [ 9.57],\n",
       "       [ 9.58],\n",
       "       [ 9.59],\n",
       "       [ 9.6 ],\n",
       "       [ 9.61],\n",
       "       [ 9.62],\n",
       "       [ 9.63],\n",
       "       [ 9.64],\n",
       "       [ 9.65],\n",
       "       [ 9.66],\n",
       "       [ 9.67],\n",
       "       [ 9.68],\n",
       "       [ 9.69],\n",
       "       [ 9.7 ],\n",
       "       [ 9.71],\n",
       "       [ 9.72],\n",
       "       [ 9.73],\n",
       "       [ 9.74],\n",
       "       [ 9.75],\n",
       "       [ 9.76],\n",
       "       [ 9.77],\n",
       "       [ 9.78],\n",
       "       [ 9.79],\n",
       "       [ 9.8 ],\n",
       "       [ 9.81],\n",
       "       [ 9.82],\n",
       "       [ 9.83],\n",
       "       [ 9.84],\n",
       "       [ 9.85],\n",
       "       [ 9.86],\n",
       "       [ 9.87],\n",
       "       [ 9.88],\n",
       "       [ 9.89],\n",
       "       [ 9.9 ],\n",
       "       [ 9.91],\n",
       "       [ 9.92],\n",
       "       [ 9.93],\n",
       "       [ 9.94],\n",
       "       [ 9.95],\n",
       "       [ 9.96],\n",
       "       [ 9.97],\n",
       "       [ 9.98],\n",
       "       [ 9.99],\n",
       "       [10.  ],\n",
       "       [10.01],\n",
       "       [10.02],\n",
       "       [10.03],\n",
       "       [10.04],\n",
       "       [10.05],\n",
       "       [10.06],\n",
       "       [10.07],\n",
       "       [10.08],\n",
       "       [10.09],\n",
       "       [10.1 ],\n",
       "       [10.11],\n",
       "       [10.12],\n",
       "       [10.13],\n",
       "       [10.14],\n",
       "       [10.15],\n",
       "       [10.16],\n",
       "       [10.17],\n",
       "       [10.18],\n",
       "       [10.19],\n",
       "       [10.2 ],\n",
       "       [10.21],\n",
       "       [10.22],\n",
       "       [10.23],\n",
       "       [10.24],\n",
       "       [10.25],\n",
       "       [10.26],\n",
       "       [10.27],\n",
       "       [10.28],\n",
       "       [10.29],\n",
       "       [10.3 ],\n",
       "       [10.31],\n",
       "       [10.32],\n",
       "       [10.33],\n",
       "       [10.34],\n",
       "       [10.35],\n",
       "       [10.36],\n",
       "       [10.37],\n",
       "       [10.38],\n",
       "       [10.39],\n",
       "       [10.4 ],\n",
       "       [10.41],\n",
       "       [10.42],\n",
       "       [10.43],\n",
       "       [10.44],\n",
       "       [10.45],\n",
       "       [10.46],\n",
       "       [10.47],\n",
       "       [10.48],\n",
       "       [10.49],\n",
       "       [10.5 ],\n",
       "       [10.51],\n",
       "       [10.52],\n",
       "       [10.53],\n",
       "       [10.54],\n",
       "       [10.55],\n",
       "       [10.56],\n",
       "       [10.57],\n",
       "       [10.58],\n",
       "       [10.59]])"
      ]
     },
     "execution_count": 101,
     "metadata": {},
     "output_type": "execute_result"
    }
   ],
   "source": [
    "x3_grid"
   ]
  },
  {
   "cell_type": "code",
   "execution_count": 102,
   "metadata": {},
   "outputs": [
    {
     "data": {
      "image/png": "[encoded data removed]",
      "text/plain": [
       "<Figure size 432x288 with 1 Axes>"
      ]
     },
     "metadata": {
      "needs_background": "light"
     },
     "output_type": "display_data"
    }
   ],
   "source": [
    "x3_grid = np.arange(min(x_3), max(x_3), 0.01)\n",
    "x3_grid = x3_grid.reshape((len(x3_grid), 1))\n",
    "plt.scatter(x_3, y_3, color = 'orange')\n",
    "plt.plot(x3_grid, tree_reg.predict(x3_grid), color = 'blue')\n",
    "plt.title(\"Decision Tree Regression\")\n",
    "plt.xlabel(\"X - column\")\n",
    "plt.ylabel(\"Y - column\")\n",
    "plt.show()"
   ]
  },
  {
   "cell_type": "markdown",
   "metadata": {},
   "source": [
    "### Predicting results"
   ]
  },
  {
   "cell_type": "code",
   "execution_count": 103,
   "metadata": {},
   "outputs": [
    {
     "data": {
      "text/plain": [
       "array([65.])"
      ]
     },
     "execution_count": 103,
     "metadata": {},
     "output_type": "execute_result"
    }
   ],
   "source": [
    "tree_reg.predict([[2.40]])"
   ]
  },
  {
   "cell_type": "code",
   "execution_count": 104,
   "metadata": {},
   "outputs": [
    {
     "data": {
      "text/plain": [
       "array([65.])"
      ]
     },
     "execution_count": 104,
     "metadata": {},
     "output_type": "execute_result"
    }
   ],
   "source": [
    "tree_reg.predict([[3]])"
   ]
  },
  {
   "cell_type": "code",
   "execution_count": 105,
   "metadata": {},
   "outputs": [
    {
     "data": {
      "text/plain": [
       "array([65.])"
      ]
     },
     "execution_count": 105,
     "metadata": {},
     "output_type": "execute_result"
    }
   ],
   "source": [
    "tree_reg.predict([[3.3]])"
   ]
  },
  {
   "cell_type": "code",
   "execution_count": 106,
   "metadata": {
    "scrolled": true
   },
   "outputs": [
    {
     "data": {
      "text/plain": [
       "array([94.])"
      ]
     },
     "execution_count": 106,
     "metadata": {},
     "output_type": "execute_result"
    }
   ],
   "source": [
    "tree_reg.predict([[3.9]])"
   ]
  },
  {
   "cell_type": "code",
   "execution_count": 107,
   "metadata": {},
   "outputs": [
    {
     "data": {
      "text/plain": [
       "array([65.])"
      ]
     },
     "execution_count": 107,
     "metadata": {},
     "output_type": "execute_result"
    }
   ],
   "source": [
    "tree_reg.predict([[3.5]])"
   ]
  },
  {
   "cell_type": "code",
   "execution_count": 108,
   "metadata": {},
   "outputs": [],
   "source": [
    "compare_3={'X':[2.40,3,3.3,3.5,3.9],\n",
    "         'Y':[65,'No value','No value','No value','No value'],\n",
    "         'Predicted_Y_tree':[65.,65.,65.,65.,94.]}"
   ]
  },
  {
   "cell_type": "code",
   "execution_count": 109,
   "metadata": {},
   "outputs": [],
   "source": [
    "compare_table_3=pd.DataFrame(compare_3)"
   ]
  },
  {
   "cell_type": "code",
   "execution_count": 110,
   "metadata": {},
   "outputs": [
    {
     "data": {
      "text/html": [
       "<div>\n",
       "<style scoped>\n",
       "    .dataframe tbody tr th:only-of-type {\n",
       "        vertical-align: middle;\n",
       "    }\n",
       "\n",
       "    .dataframe tbody tr th {\n",
       "        vertical-align: top;\n",
       "    }\n",
       "\n",
       "    .dataframe thead th {\n",
       "        text-align: right;\n",
       "    }\n",
       "</style>\n",
       "<table border=\"1\" class=\"dataframe\">\n",
       "  <thead>\n",
       "    <tr style=\"text-align: right;\">\n",
       "      <th></th>\n",
       "      <th>X</th>\n",
       "      <th>Y</th>\n",
       "      <th>Predicted_Y_tree</th>\n",
       "    </tr>\n",
       "  </thead>\n",
       "  <tbody>\n",
       "    <tr>\n",
       "      <th>0</th>\n",
       "      <td>2.4</td>\n",
       "      <td>65</td>\n",
       "      <td>65.0</td>\n",
       "    </tr>\n",
       "    <tr>\n",
       "      <th>1</th>\n",
       "      <td>3.0</td>\n",
       "      <td>No value</td>\n",
       "      <td>65.0</td>\n",
       "    </tr>\n",
       "    <tr>\n",
       "      <th>2</th>\n",
       "      <td>3.3</td>\n",
       "      <td>No value</td>\n",
       "      <td>65.0</td>\n",
       "    </tr>\n",
       "    <tr>\n",
       "      <th>3</th>\n",
       "      <td>3.5</td>\n",
       "      <td>No value</td>\n",
       "      <td>65.0</td>\n",
       "    </tr>\n",
       "    <tr>\n",
       "      <th>4</th>\n",
       "      <td>3.9</td>\n",
       "      <td>No value</td>\n",
       "      <td>94.0</td>\n",
       "    </tr>\n",
       "  </tbody>\n",
       "</table>\n",
       "</div>"
      ],
      "text/plain": [
       "     X         Y  Predicted_Y_tree\n",
       "0  2.4        65              65.0\n",
       "1  3.0  No value              65.0\n",
       "2  3.3  No value              65.0\n",
       "3  3.5  No value              65.0\n",
       "4  3.9  No value              94.0"
      ]
     },
     "execution_count": 110,
     "metadata": {},
     "output_type": "execute_result"
    }
   ],
   "source": [
    "compare_table_3"
   ]
  },
  {
   "cell_type": "code",
   "execution_count": 111,
   "metadata": {},
   "outputs": [],
   "source": [
    "# According to the table we can see predicted values are the same in certain interval\n",
    "# That's why r-squared of this model is 1."
   ]
  },
  {
   "cell_type": "markdown",
   "metadata": {},
   "source": [
    "### R-squared"
   ]
  },
  {
   "cell_type": "code",
   "execution_count": 112,
   "metadata": {},
   "outputs": [
    {
     "data": {
      "text/plain": [
       "1.0"
      ]
     },
     "execution_count": 112,
     "metadata": {},
     "output_type": "execute_result"
    }
   ],
   "source": [
    "tree_reg.score(x3_grid,tree_reg.predict(x3_grid))"
   ]
  },
  {
   "cell_type": "code",
   "execution_count": 113,
   "metadata": {},
   "outputs": [
    {
     "data": {
      "text/plain": [
       "1.0"
      ]
     },
     "execution_count": 113,
     "metadata": {},
     "output_type": "execute_result"
    }
   ],
   "source": [
    "tree_reg.score(x_3,tree_reg.predict(x_3))"
   ]
  },
  {
   "cell_type": "markdown",
   "metadata": {},
   "source": [
    "# 4. Random Forest Regression"
   ]
  },
  {
   "cell_type": "code",
   "execution_count": 114,
   "metadata": {},
   "outputs": [],
   "source": [
    "data_frame_4={'X':[0.9,2.3,2.4,4.7,5,6,6.4,6.55,6.58,7,7.2,7.8,7.84,8.1,8.16,8.19,10.3,10.6],\n",
    "              'Y':[9,70,65,94,93,99,101,104,100,96,94,105,108,111,90,97,101,103]}"
   ]
  },
  {
   "cell_type": "code",
   "execution_count": 115,
   "metadata": {},
   "outputs": [],
   "source": [
    "df_4=pd.DataFrame(data_frame_4)"
   ]
  },
  {
   "cell_type": "code",
   "execution_count": 116,
   "metadata": {},
   "outputs": [
    {
     "data": {
      "text/html": [
       "<div>\n",
       "<style scoped>\n",
       "    .dataframe tbody tr th:only-of-type {\n",
       "        vertical-align: middle;\n",
       "    }\n",
       "\n",
       "    .dataframe tbody tr th {\n",
       "        vertical-align: top;\n",
       "    }\n",
       "\n",
       "    .dataframe thead th {\n",
       "        text-align: right;\n",
       "    }\n",
       "</style>\n",
       "<table border=\"1\" class=\"dataframe\">\n",
       "  <thead>\n",
       "    <tr style=\"text-align: right;\">\n",
       "      <th></th>\n",
       "      <th>X</th>\n",
       "      <th>Y</th>\n",
       "    </tr>\n",
       "  </thead>\n",
       "  <tbody>\n",
       "    <tr>\n",
       "      <th>0</th>\n",
       "      <td>0.90</td>\n",
       "      <td>9</td>\n",
       "    </tr>\n",
       "    <tr>\n",
       "      <th>1</th>\n",
       "      <td>2.30</td>\n",
       "      <td>70</td>\n",
       "    </tr>\n",
       "    <tr>\n",
       "      <th>2</th>\n",
       "      <td>2.40</td>\n",
       "      <td>65</td>\n",
       "    </tr>\n",
       "    <tr>\n",
       "      <th>3</th>\n",
       "      <td>4.70</td>\n",
       "      <td>94</td>\n",
       "    </tr>\n",
       "    <tr>\n",
       "      <th>4</th>\n",
       "      <td>5.00</td>\n",
       "      <td>93</td>\n",
       "    </tr>\n",
       "    <tr>\n",
       "      <th>5</th>\n",
       "      <td>6.00</td>\n",
       "      <td>99</td>\n",
       "    </tr>\n",
       "    <tr>\n",
       "      <th>6</th>\n",
       "      <td>6.40</td>\n",
       "      <td>101</td>\n",
       "    </tr>\n",
       "    <tr>\n",
       "      <th>7</th>\n",
       "      <td>6.55</td>\n",
       "      <td>104</td>\n",
       "    </tr>\n",
       "    <tr>\n",
       "      <th>8</th>\n",
       "      <td>6.58</td>\n",
       "      <td>100</td>\n",
       "    </tr>\n",
       "    <tr>\n",
       "      <th>9</th>\n",
       "      <td>7.00</td>\n",
       "      <td>96</td>\n",
       "    </tr>\n",
       "    <tr>\n",
       "      <th>10</th>\n",
       "      <td>7.20</td>\n",
       "      <td>94</td>\n",
       "    </tr>\n",
       "    <tr>\n",
       "      <th>11</th>\n",
       "      <td>7.80</td>\n",
       "      <td>105</td>\n",
       "    </tr>\n",
       "    <tr>\n",
       "      <th>12</th>\n",
       "      <td>7.84</td>\n",
       "      <td>108</td>\n",
       "    </tr>\n",
       "    <tr>\n",
       "      <th>13</th>\n",
       "      <td>8.10</td>\n",
       "      <td>111</td>\n",
       "    </tr>\n",
       "    <tr>\n",
       "      <th>14</th>\n",
       "      <td>8.16</td>\n",
       "      <td>90</td>\n",
       "    </tr>\n",
       "    <tr>\n",
       "      <th>15</th>\n",
       "      <td>8.19</td>\n",
       "      <td>97</td>\n",
       "    </tr>\n",
       "    <tr>\n",
       "      <th>16</th>\n",
       "      <td>10.30</td>\n",
       "      <td>101</td>\n",
       "    </tr>\n",
       "    <tr>\n",
       "      <th>17</th>\n",
       "      <td>10.60</td>\n",
       "      <td>103</td>\n",
       "    </tr>\n",
       "  </tbody>\n",
       "</table>\n",
       "</div>"
      ],
      "text/plain": [
       "        X    Y\n",
       "0    0.90    9\n",
       "1    2.30   70\n",
       "2    2.40   65\n",
       "3    4.70   94\n",
       "4    5.00   93\n",
       "5    6.00   99\n",
       "6    6.40  101\n",
       "7    6.55  104\n",
       "8    6.58  100\n",
       "9    7.00   96\n",
       "10   7.20   94\n",
       "11   7.80  105\n",
       "12   7.84  108\n",
       "13   8.10  111\n",
       "14   8.16   90\n",
       "15   8.19   97\n",
       "16  10.30  101\n",
       "17  10.60  103"
      ]
     },
     "execution_count": 116,
     "metadata": {},
     "output_type": "execute_result"
    }
   ],
   "source": [
    "df_4"
   ]
  },
  {
   "cell_type": "markdown",
   "metadata": {},
   "source": [
    "### Determining dependent and independent variables"
   ]
  },
  {
   "cell_type": "code",
   "execution_count": 117,
   "metadata": {},
   "outputs": [],
   "source": [
    "x_4=df_4.iloc[:,0:1].values\n",
    "y_4=df_4.iloc[:,-1].values"
   ]
  },
  {
   "cell_type": "code",
   "execution_count": 118,
   "metadata": {},
   "outputs": [
    {
     "data": {
      "text/plain": [
       "array([[ 0.9 ],\n",
       "       [ 2.3 ],\n",
       "       [ 2.4 ],\n",
       "       [ 4.7 ],\n",
       "       [ 5.  ],\n",
       "       [ 6.  ],\n",
       "       [ 6.4 ],\n",
       "       [ 6.55],\n",
       "       [ 6.58],\n",
       "       [ 7.  ],\n",
       "       [ 7.2 ],\n",
       "       [ 7.8 ],\n",
       "       [ 7.84],\n",
       "       [ 8.1 ],\n",
       "       [ 8.16],\n",
       "       [ 8.19],\n",
       "       [10.3 ],\n",
       "       [10.6 ]])"
      ]
     },
     "execution_count": 118,
     "metadata": {},
     "output_type": "execute_result"
    }
   ],
   "source": [
    "x_4"
   ]
  },
  {
   "cell_type": "code",
   "execution_count": 119,
   "metadata": {},
   "outputs": [
    {
     "data": {
      "text/plain": [
       "array([  9,  70,  65,  94,  93,  99, 101, 104, 100,  96,  94, 105, 108,\n",
       "       111,  90,  97, 101, 103], dtype=int64)"
      ]
     },
     "execution_count": 119,
     "metadata": {},
     "output_type": "execute_result"
    }
   ],
   "source": [
    "y_4"
   ]
  },
  {
   "cell_type": "markdown",
   "metadata": {},
   "source": [
    "### Training the Random Forest  Regression"
   ]
  },
  {
   "cell_type": "code",
   "execution_count": 120,
   "metadata": {},
   "outputs": [
    {
     "data": {
      "text/plain": [
       "RandomForestRegressor(bootstrap=True, criterion='mse', max_depth=None,\n",
       "                      max_features='auto', max_leaf_nodes=None,\n",
       "                      min_impurity_decrease=0.0, min_impurity_split=None,\n",
       "                      min_samples_leaf=1, min_samples_split=2,\n",
       "                      min_weight_fraction_leaf=0.0, n_estimators=10,\n",
       "                      n_jobs=None, oob_score=False, random_state=0, verbose=0,\n",
       "                      warm_start=False)"
      ]
     },
     "execution_count": 120,
     "metadata": {},
     "output_type": "execute_result"
    }
   ],
   "source": [
    "from sklearn.ensemble import RandomForestRegressor\n",
    "random_reg = RandomForestRegressor(n_estimators = 10, random_state = 0)\n",
    "random_reg.fit(x_4, y_4)"
   ]
  },
  {
   "cell_type": "markdown",
   "metadata": {},
   "source": [
    "### Visualization of Random Forest Regression"
   ]
  },
  {
   "cell_type": "code",
   "execution_count": 121,
   "metadata": {
    "scrolled": true
   },
   "outputs": [
    {
     "data": {
      "image/png": "[encoded data removed]",
      "text/plain": [
       "<Figure size 432x288 with 1 Axes>"
      ]
     },
     "metadata": {
      "needs_background": "light"
     },
     "output_type": "display_data"
    }
   ],
   "source": [
    "plt.scatter(x_4, y_4, color = 'greenyellow',label=\"original model\")\n",
    "plt.plot(x_4, random_reg.predict(x_4), color = 'purple',label=\"predicted model\")\n",
    "plt.legend()\n",
    "plt.title(\"Random Forest Regression\")\n",
    "plt.xlabel(\"X - column\")\n",
    "plt.ylabel(\"Y - column\")\n",
    "plt.show()"
   ]
  },
  {
   "cell_type": "code",
   "execution_count": 122,
   "metadata": {},
   "outputs": [],
   "source": [
    "# This model is good fitted and doesn't try to touch outliers"
   ]
  },
  {
   "cell_type": "markdown",
   "metadata": {},
   "source": [
    "### Random Forest model with x4_grid"
   ]
  },
  {
   "cell_type": "code",
   "execution_count": 123,
   "metadata": {},
   "outputs": [],
   "source": [
    "x4_grid = np.arange(min(x_4), max(x_4), 0.01)\n",
    "x4_grid = x4_grid.reshape((len(x4_grid), 1))"
   ]
  },
  {
   "cell_type": "code",
   "execution_count": 124,
   "metadata": {},
   "outputs": [
    {
     "data": {
      "text/plain": [
       "array([[ 0.9 ],\n",
       "       [ 0.91],\n",
       "       [ 0.92],\n",
       "       [ 0.93],\n",
       "       [ 0.94],\n",
       "       [ 0.95],\n",
       "       [ 0.96],\n",
       "       [ 0.97],\n",
       "       [ 0.98],\n",
       "       [ 0.99],\n",
       "       [ 1.  ],\n",
       "       [ 1.01],\n",
       "       [ 1.02],\n",
       "       [ 1.03],\n",
       "       [ 1.04],\n",
       "       [ 1.05],\n",
       "       [ 1.06],\n",
       "       [ 1.07],\n",
       "       [ 1.08],\n",
       "       [ 1.09],\n",
       "       [ 1.1 ],\n",
       "       [ 1.11],\n",
       "       [ 1.12],\n",
       "       [ 1.13],\n",
       "       [ 1.14],\n",
       "       [ 1.15],\n",
       "       [ 1.16],\n",
       "       [ 1.17],\n",
       "       [ 1.18],\n",
       "       [ 1.19],\n",
       "       [ 1.2 ],\n",
       "       [ 1.21],\n",
       "       [ 1.22],\n",
       "       [ 1.23],\n",
       "       [ 1.24],\n",
       "       [ 1.25],\n",
       "       [ 1.26],\n",
       "       [ 1.27],\n",
       "       [ 1.28],\n",
       "       [ 1.29],\n",
       "       [ 1.3 ],\n",
       "       [ 1.31],\n",
       "       [ 1.32],\n",
       "       [ 1.33],\n",
       "       [ 1.34],\n",
       "       [ 1.35],\n",
       "       [ 1.36],\n",
       "       [ 1.37],\n",
       "       [ 1.38],\n",
       "       [ 1.39],\n",
       "       [ 1.4 ],\n",
       "       [ 1.41],\n",
       "       [ 1.42],\n",
       "       [ 1.43],\n",
       "       [ 1.44],\n",
       "       [ 1.45],\n",
       "       [ 1.46],\n",
       "       [ 1.47],\n",
       "       [ 1.48],\n",
       "       [ 1.49],\n",
       "       [ 1.5 ],\n",
       "       [ 1.51],\n",
       "       [ 1.52],\n",
       "       [ 1.53],\n",
       "       [ 1.54],\n",
       "       [ 1.55],\n",
       "       [ 1.56],\n",
       "       [ 1.57],\n",
       "       [ 1.58],\n",
       "       [ 1.59],\n",
       "       [ 1.6 ],\n",
       "       [ 1.61],\n",
       "       [ 1.62],\n",
       "       [ 1.63],\n",
       "       [ 1.64],\n",
       "       [ 1.65],\n",
       "       [ 1.66],\n",
       "       [ 1.67],\n",
       "       [ 1.68],\n",
       "       [ 1.69],\n",
       "       [ 1.7 ],\n",
       "       [ 1.71],\n",
       "       [ 1.72],\n",
       "       [ 1.73],\n",
       "       [ 1.74],\n",
       "       [ 1.75],\n",
       "       [ 1.76],\n",
       "       [ 1.77],\n",
       "       [ 1.78],\n",
       "       [ 1.79],\n",
       "       [ 1.8 ],\n",
       "       [ 1.81],\n",
       "       [ 1.82],\n",
       "       [ 1.83],\n",
       "       [ 1.84],\n",
       "       [ 1.85],\n",
       "       [ 1.86],\n",
       "       [ 1.87],\n",
       "       [ 1.88],\n",
       "       [ 1.89],\n",
       "       [ 1.9 ],\n",
       "       [ 1.91],\n",
       "       [ 1.92],\n",
       "       [ 1.93],\n",
       "       [ 1.94],\n",
       "       [ 1.95],\n",
       "       [ 1.96],\n",
       "       [ 1.97],\n",
       "       [ 1.98],\n",
       "       [ 1.99],\n",
       "       [ 2.  ],\n",
       "       [ 2.01],\n",
       "       [ 2.02],\n",
       "       [ 2.03],\n",
       "       [ 2.04],\n",
       "       [ 2.05],\n",
       "       [ 2.06],\n",
       "       [ 2.07],\n",
       "       [ 2.08],\n",
       "       [ 2.09],\n",
       "       [ 2.1 ],\n",
       "       [ 2.11],\n",
       "       [ 2.12],\n",
       "       [ 2.13],\n",
       "       [ 2.14],\n",
       "       [ 2.15],\n",
       "       [ 2.16],\n",
       "       [ 2.17],\n",
       "       [ 2.18],\n",
       "       [ 2.19],\n",
       "       [ 2.2 ],\n",
       "       [ 2.21],\n",
       "       [ 2.22],\n",
       "       [ 2.23],\n",
       "       [ 2.24],\n",
       "       [ 2.25],\n",
       "       [ 2.26],\n",
       "       [ 2.27],\n",
       "       [ 2.28],\n",
       "       [ 2.29],\n",
       "       [ 2.3 ],\n",
       "       [ 2.31],\n",
       "       [ 2.32],\n",
       "       [ 2.33],\n",
       "       [ 2.34],\n",
       "       [ 2.35],\n",
       "       [ 2.36],\n",
       "       [ 2.37],\n",
       "       [ 2.38],\n",
       "       [ 2.39],\n",
       "       [ 2.4 ],\n",
       "       [ 2.41],\n",
       "       [ 2.42],\n",
       "       [ 2.43],\n",
       "       [ 2.44],\n",
       "       [ 2.45],\n",
       "       [ 2.46],\n",
       "       [ 2.47],\n",
       "       [ 2.48],\n",
       "       [ 2.49],\n",
       "       [ 2.5 ],\n",
       "       [ 2.51],\n",
       "       [ 2.52],\n",
       "       [ 2.53],\n",
       "       [ 2.54],\n",
       "       [ 2.55],\n",
       "       [ 2.56],\n",
       "       [ 2.57],\n",
       "       [ 2.58],\n",
       "       [ 2.59],\n",
       "       [ 2.6 ],\n",
       "       [ 2.61],\n",
       "       [ 2.62],\n",
       "       [ 2.63],\n",
       "       [ 2.64],\n",
       "       [ 2.65],\n",
       "       [ 2.66],\n",
       "       [ 2.67],\n",
       "       [ 2.68],\n",
       "       [ 2.69],\n",
       "       [ 2.7 ],\n",
       "       [ 2.71],\n",
       "       [ 2.72],\n",
       "       [ 2.73],\n",
       "       [ 2.74],\n",
       "       [ 2.75],\n",
       "       [ 2.76],\n",
       "       [ 2.77],\n",
       "       [ 2.78],\n",
       "       [ 2.79],\n",
       "       [ 2.8 ],\n",
       "       [ 2.81],\n",
       "       [ 2.82],\n",
       "       [ 2.83],\n",
       "       [ 2.84],\n",
       "       [ 2.85],\n",
       "       [ 2.86],\n",
       "       [ 2.87],\n",
       "       [ 2.88],\n",
       "       [ 2.89],\n",
       "       [ 2.9 ],\n",
       "       [ 2.91],\n",
       "       [ 2.92],\n",
       "       [ 2.93],\n",
       "       [ 2.94],\n",
       "       [ 2.95],\n",
       "       [ 2.96],\n",
       "       [ 2.97],\n",
       "       [ 2.98],\n",
       "       [ 2.99],\n",
       "       [ 3.  ],\n",
       "       [ 3.01],\n",
       "       [ 3.02],\n",
       "       [ 3.03],\n",
       "       [ 3.04],\n",
       "       [ 3.05],\n",
       "       [ 3.06],\n",
       "       [ 3.07],\n",
       "       [ 3.08],\n",
       "       [ 3.09],\n",
       "       [ 3.1 ],\n",
       "       [ 3.11],\n",
       "       [ 3.12],\n",
       "       [ 3.13],\n",
       "       [ 3.14],\n",
       "       [ 3.15],\n",
       "       [ 3.16],\n",
       "       [ 3.17],\n",
       "       [ 3.18],\n",
       "       [ 3.19],\n",
       "       [ 3.2 ],\n",
       "       [ 3.21],\n",
       "       [ 3.22],\n",
       "       [ 3.23],\n",
       "       [ 3.24],\n",
       "       [ 3.25],\n",
       "       [ 3.26],\n",
       "       [ 3.27],\n",
       "       [ 3.28],\n",
       "       [ 3.29],\n",
       "       [ 3.3 ],\n",
       "       [ 3.31],\n",
       "       [ 3.32],\n",
       "       [ 3.33],\n",
       "       [ 3.34],\n",
       "       [ 3.35],\n",
       "       [ 3.36],\n",
       "       [ 3.37],\n",
       "       [ 3.38],\n",
       "       [ 3.39],\n",
       "       [ 3.4 ],\n",
       "       [ 3.41],\n",
       "       [ 3.42],\n",
       "       [ 3.43],\n",
       "       [ 3.44],\n",
       "       [ 3.45],\n",
       "       [ 3.46],\n",
       "       [ 3.47],\n",
       "       [ 3.48],\n",
       "       [ 3.49],\n",
       "       [ 3.5 ],\n",
       "       [ 3.51],\n",
       "       [ 3.52],\n",
       "       [ 3.53],\n",
       "       [ 3.54],\n",
       "       [ 3.55],\n",
       "       [ 3.56],\n",
       "       [ 3.57],\n",
       "       [ 3.58],\n",
       "       [ 3.59],\n",
       "       [ 3.6 ],\n",
       "       [ 3.61],\n",
       "       [ 3.62],\n",
       "       [ 3.63],\n",
       "       [ 3.64],\n",
       "       [ 3.65],\n",
       "       [ 3.66],\n",
       "       [ 3.67],\n",
       "       [ 3.68],\n",
       "       [ 3.69],\n",
       "       [ 3.7 ],\n",
       "       [ 3.71],\n",
       "       [ 3.72],\n",
       "       [ 3.73],\n",
       "       [ 3.74],\n",
       "       [ 3.75],\n",
       "       [ 3.76],\n",
       "       [ 3.77],\n",
       "       [ 3.78],\n",
       "       [ 3.79],\n",
       "       [ 3.8 ],\n",
       "       [ 3.81],\n",
       "       [ 3.82],\n",
       "       [ 3.83],\n",
       "       [ 3.84],\n",
       "       [ 3.85],\n",
       "       [ 3.86],\n",
       "       [ 3.87],\n",
       "       [ 3.88],\n",
       "       [ 3.89],\n",
       "       [ 3.9 ],\n",
       "       [ 3.91],\n",
       "       [ 3.92],\n",
       "       [ 3.93],\n",
       "       [ 3.94],\n",
       "       [ 3.95],\n",
       "       [ 3.96],\n",
       "       [ 3.97],\n",
       "       [ 3.98],\n",
       "       [ 3.99],\n",
       "       [ 4.  ],\n",
       "       [ 4.01],\n",
       "       [ 4.02],\n",
       "       [ 4.03],\n",
       "       [ 4.04],\n",
       "       [ 4.05],\n",
       "       [ 4.06],\n",
       "       [ 4.07],\n",
       "       [ 4.08],\n",
       "       [ 4.09],\n",
       "       [ 4.1 ],\n",
       "       [ 4.11],\n",
       "       [ 4.12],\n",
       "       [ 4.13],\n",
       "       [ 4.14],\n",
       "       [ 4.15],\n",
       "       [ 4.16],\n",
       "       [ 4.17],\n",
       "       [ 4.18],\n",
       "       [ 4.19],\n",
       "       [ 4.2 ],\n",
       "       [ 4.21],\n",
       "       [ 4.22],\n",
       "       [ 4.23],\n",
       "       [ 4.24],\n",
       "       [ 4.25],\n",
       "       [ 4.26],\n",
       "       [ 4.27],\n",
       "       [ 4.28],\n",
       "       [ 4.29],\n",
       "       [ 4.3 ],\n",
       "       [ 4.31],\n",
       "       [ 4.32],\n",
       "       [ 4.33],\n",
       "       [ 4.34],\n",
       "       [ 4.35],\n",
       "       [ 4.36],\n",
       "       [ 4.37],\n",
       "       [ 4.38],\n",
       "       [ 4.39],\n",
       "       [ 4.4 ],\n",
       "       [ 4.41],\n",
       "       [ 4.42],\n",
       "       [ 4.43],\n",
       "       [ 4.44],\n",
       "       [ 4.45],\n",
       "       [ 4.46],\n",
       "       [ 4.47],\n",
       "       [ 4.48],\n",
       "       [ 4.49],\n",
       "       [ 4.5 ],\n",
       "       [ 4.51],\n",
       "       [ 4.52],\n",
       "       [ 4.53],\n",
       "       [ 4.54],\n",
       "       [ 4.55],\n",
       "       [ 4.56],\n",
       "       [ 4.57],\n",
       "       [ 4.58],\n",
       "       [ 4.59],\n",
       "       [ 4.6 ],\n",
       "       [ 4.61],\n",
       "       [ 4.62],\n",
       "       [ 4.63],\n",
       "       [ 4.64],\n",
       "       [ 4.65],\n",
       "       [ 4.66],\n",
       "       [ 4.67],\n",
       "       [ 4.68],\n",
       "       [ 4.69],\n",
       "       [ 4.7 ],\n",
       "       [ 4.71],\n",
       "       [ 4.72],\n",
       "       [ 4.73],\n",
       "       [ 4.74],\n",
       "       [ 4.75],\n",
       "       [ 4.76],\n",
       "       [ 4.77],\n",
       "       [ 4.78],\n",
       "       [ 4.79],\n",
       "       [ 4.8 ],\n",
       "       [ 4.81],\n",
       "       [ 4.82],\n",
       "       [ 4.83],\n",
       "       [ 4.84],\n",
       "       [ 4.85],\n",
       "       [ 4.86],\n",
       "       [ 4.87],\n",
       "       [ 4.88],\n",
       "       [ 4.89],\n",
       "       [ 4.9 ],\n",
       "       [ 4.91],\n",
       "       [ 4.92],\n",
       "       [ 4.93],\n",
       "       [ 4.94],\n",
       "       [ 4.95],\n",
       "       [ 4.96],\n",
       "       [ 4.97],\n",
       "       [ 4.98],\n",
       "       [ 4.99],\n",
       "       [ 5.  ],\n",
       "       [ 5.01],\n",
       "       [ 5.02],\n",
       "       [ 5.03],\n",
       "       [ 5.04],\n",
       "       [ 5.05],\n",
       "       [ 5.06],\n",
       "       [ 5.07],\n",
       "       [ 5.08],\n",
       "       [ 5.09],\n",
       "       [ 5.1 ],\n",
       "       [ 5.11],\n",
       "       [ 5.12],\n",
       "       [ 5.13],\n",
       "       [ 5.14],\n",
       "       [ 5.15],\n",
       "       [ 5.16],\n",
       "       [ 5.17],\n",
       "       [ 5.18],\n",
       "       [ 5.19],\n",
       "       [ 5.2 ],\n",
       "       [ 5.21],\n",
       "       [ 5.22],\n",
       "       [ 5.23],\n",
       "       [ 5.24],\n",
       "       [ 5.25],\n",
       "       [ 5.26],\n",
       "       [ 5.27],\n",
       "       [ 5.28],\n",
       "       [ 5.29],\n",
       "       [ 5.3 ],\n",
       "       [ 5.31],\n",
       "       [ 5.32],\n",
       "       [ 5.33],\n",
       "       [ 5.34],\n",
       "       [ 5.35],\n",
       "       [ 5.36],\n",
       "       [ 5.37],\n",
       "       [ 5.38],\n",
       "       [ 5.39],\n",
       "       [ 5.4 ],\n",
       "       [ 5.41],\n",
       "       [ 5.42],\n",
       "       [ 5.43],\n",
       "       [ 5.44],\n",
       "       [ 5.45],\n",
       "       [ 5.46],\n",
       "       [ 5.47],\n",
       "       [ 5.48],\n",
       "       [ 5.49],\n",
       "       [ 5.5 ],\n",
       "       [ 5.51],\n",
       "       [ 5.52],\n",
       "       [ 5.53],\n",
       "       [ 5.54],\n",
       "       [ 5.55],\n",
       "       [ 5.56],\n",
       "       [ 5.57],\n",
       "       [ 5.58],\n",
       "       [ 5.59],\n",
       "       [ 5.6 ],\n",
       "       [ 5.61],\n",
       "       [ 5.62],\n",
       "       [ 5.63],\n",
       "       [ 5.64],\n",
       "       [ 5.65],\n",
       "       [ 5.66],\n",
       "       [ 5.67],\n",
       "       [ 5.68],\n",
       "       [ 5.69],\n",
       "       [ 5.7 ],\n",
       "       [ 5.71],\n",
       "       [ 5.72],\n",
       "       [ 5.73],\n",
       "       [ 5.74],\n",
       "       [ 5.75],\n",
       "       [ 5.76],\n",
       "       [ 5.77],\n",
       "       [ 5.78],\n",
       "       [ 5.79],\n",
       "       [ 5.8 ],\n",
       "       [ 5.81],\n",
       "       [ 5.82],\n",
       "       [ 5.83],\n",
       "       [ 5.84],\n",
       "       [ 5.85],\n",
       "       [ 5.86],\n",
       "       [ 5.87],\n",
       "       [ 5.88],\n",
       "       [ 5.89],\n",
       "       [ 5.9 ],\n",
       "       [ 5.91],\n",
       "       [ 5.92],\n",
       "       [ 5.93],\n",
       "       [ 5.94],\n",
       "       [ 5.95],\n",
       "       [ 5.96],\n",
       "       [ 5.97],\n",
       "       [ 5.98],\n",
       "       [ 5.99],\n",
       "       [ 6.  ],\n",
       "       [ 6.01],\n",
       "       [ 6.02],\n",
       "       [ 6.03],\n",
       "       [ 6.04],\n",
       "       [ 6.05],\n",
       "       [ 6.06],\n",
       "       [ 6.07],\n",
       "       [ 6.08],\n",
       "       [ 6.09],\n",
       "       [ 6.1 ],\n",
       "       [ 6.11],\n",
       "       [ 6.12],\n",
       "       [ 6.13],\n",
       "       [ 6.14],\n",
       "       [ 6.15],\n",
       "       [ 6.16],\n",
       "       [ 6.17],\n",
       "       [ 6.18],\n",
       "       [ 6.19],\n",
       "       [ 6.2 ],\n",
       "       [ 6.21],\n",
       "       [ 6.22],\n",
       "       [ 6.23],\n",
       "       [ 6.24],\n",
       "       [ 6.25],\n",
       "       [ 6.26],\n",
       "       [ 6.27],\n",
       "       [ 6.28],\n",
       "       [ 6.29],\n",
       "       [ 6.3 ],\n",
       "       [ 6.31],\n",
       "       [ 6.32],\n",
       "       [ 6.33],\n",
       "       [ 6.34],\n",
       "       [ 6.35],\n",
       "       [ 6.36],\n",
       "       [ 6.37],\n",
       "       [ 6.38],\n",
       "       [ 6.39],\n",
       "       [ 6.4 ],\n",
       "       [ 6.41],\n",
       "       [ 6.42],\n",
       "       [ 6.43],\n",
       "       [ 6.44],\n",
       "       [ 6.45],\n",
       "       [ 6.46],\n",
       "       [ 6.47],\n",
       "       [ 6.48],\n",
       "       [ 6.49],\n",
       "       [ 6.5 ],\n",
       "       [ 6.51],\n",
       "       [ 6.52],\n",
       "       [ 6.53],\n",
       "       [ 6.54],\n",
       "       [ 6.55],\n",
       "       [ 6.56],\n",
       "       [ 6.57],\n",
       "       [ 6.58],\n",
       "       [ 6.59],\n",
       "       [ 6.6 ],\n",
       "       [ 6.61],\n",
       "       [ 6.62],\n",
       "       [ 6.63],\n",
       "       [ 6.64],\n",
       "       [ 6.65],\n",
       "       [ 6.66],\n",
       "       [ 6.67],\n",
       "       [ 6.68],\n",
       "       [ 6.69],\n",
       "       [ 6.7 ],\n",
       "       [ 6.71],\n",
       "       [ 6.72],\n",
       "       [ 6.73],\n",
       "       [ 6.74],\n",
       "       [ 6.75],\n",
       "       [ 6.76],\n",
       "       [ 6.77],\n",
       "       [ 6.78],\n",
       "       [ 6.79],\n",
       "       [ 6.8 ],\n",
       "       [ 6.81],\n",
       "       [ 6.82],\n",
       "       [ 6.83],\n",
       "       [ 6.84],\n",
       "       [ 6.85],\n",
       "       [ 6.86],\n",
       "       [ 6.87],\n",
       "       [ 6.88],\n",
       "       [ 6.89],\n",
       "       [ 6.9 ],\n",
       "       [ 6.91],\n",
       "       [ 6.92],\n",
       "       [ 6.93],\n",
       "       [ 6.94],\n",
       "       [ 6.95],\n",
       "       [ 6.96],\n",
       "       [ 6.97],\n",
       "       [ 6.98],\n",
       "       [ 6.99],\n",
       "       [ 7.  ],\n",
       "       [ 7.01],\n",
       "       [ 7.02],\n",
       "       [ 7.03],\n",
       "       [ 7.04],\n",
       "       [ 7.05],\n",
       "       [ 7.06],\n",
       "       [ 7.07],\n",
       "       [ 7.08],\n",
       "       [ 7.09],\n",
       "       [ 7.1 ],\n",
       "       [ 7.11],\n",
       "       [ 7.12],\n",
       "       [ 7.13],\n",
       "       [ 7.14],\n",
       "       [ 7.15],\n",
       "       [ 7.16],\n",
       "       [ 7.17],\n",
       "       [ 7.18],\n",
       "       [ 7.19],\n",
       "       [ 7.2 ],\n",
       "       [ 7.21],\n",
       "       [ 7.22],\n",
       "       [ 7.23],\n",
       "       [ 7.24],\n",
       "       [ 7.25],\n",
       "       [ 7.26],\n",
       "       [ 7.27],\n",
       "       [ 7.28],\n",
       "       [ 7.29],\n",
       "       [ 7.3 ],\n",
       "       [ 7.31],\n",
       "       [ 7.32],\n",
       "       [ 7.33],\n",
       "       [ 7.34],\n",
       "       [ 7.35],\n",
       "       [ 7.36],\n",
       "       [ 7.37],\n",
       "       [ 7.38],\n",
       "       [ 7.39],\n",
       "       [ 7.4 ],\n",
       "       [ 7.41],\n",
       "       [ 7.42],\n",
       "       [ 7.43],\n",
       "       [ 7.44],\n",
       "       [ 7.45],\n",
       "       [ 7.46],\n",
       "       [ 7.47],\n",
       "       [ 7.48],\n",
       "       [ 7.49],\n",
       "       [ 7.5 ],\n",
       "       [ 7.51],\n",
       "       [ 7.52],\n",
       "       [ 7.53],\n",
       "       [ 7.54],\n",
       "       [ 7.55],\n",
       "       [ 7.56],\n",
       "       [ 7.57],\n",
       "       [ 7.58],\n",
       "       [ 7.59],\n",
       "       [ 7.6 ],\n",
       "       [ 7.61],\n",
       "       [ 7.62],\n",
       "       [ 7.63],\n",
       "       [ 7.64],\n",
       "       [ 7.65],\n",
       "       [ 7.66],\n",
       "       [ 7.67],\n",
       "       [ 7.68],\n",
       "       [ 7.69],\n",
       "       [ 7.7 ],\n",
       "       [ 7.71],\n",
       "       [ 7.72],\n",
       "       [ 7.73],\n",
       "       [ 7.74],\n",
       "       [ 7.75],\n",
       "       [ 7.76],\n",
       "       [ 7.77],\n",
       "       [ 7.78],\n",
       "       [ 7.79],\n",
       "       [ 7.8 ],\n",
       "       [ 7.81],\n",
       "       [ 7.82],\n",
       "       [ 7.83],\n",
       "       [ 7.84],\n",
       "       [ 7.85],\n",
       "       [ 7.86],\n",
       "       [ 7.87],\n",
       "       [ 7.88],\n",
       "       [ 7.89],\n",
       "       [ 7.9 ],\n",
       "       [ 7.91],\n",
       "       [ 7.92],\n",
       "       [ 7.93],\n",
       "       [ 7.94],\n",
       "       [ 7.95],\n",
       "       [ 7.96],\n",
       "       [ 7.97],\n",
       "       [ 7.98],\n",
       "       [ 7.99],\n",
       "       [ 8.  ],\n",
       "       [ 8.01],\n",
       "       [ 8.02],\n",
       "       [ 8.03],\n",
       "       [ 8.04],\n",
       "       [ 8.05],\n",
       "       [ 8.06],\n",
       "       [ 8.07],\n",
       "       [ 8.08],\n",
       "       [ 8.09],\n",
       "       [ 8.1 ],\n",
       "       [ 8.11],\n",
       "       [ 8.12],\n",
       "       [ 8.13],\n",
       "       [ 8.14],\n",
       "       [ 8.15],\n",
       "       [ 8.16],\n",
       "       [ 8.17],\n",
       "       [ 8.18],\n",
       "       [ 8.19],\n",
       "       [ 8.2 ],\n",
       "       [ 8.21],\n",
       "       [ 8.22],\n",
       "       [ 8.23],\n",
       "       [ 8.24],\n",
       "       [ 8.25],\n",
       "       [ 8.26],\n",
       "       [ 8.27],\n",
       "       [ 8.28],\n",
       "       [ 8.29],\n",
       "       [ 8.3 ],\n",
       "       [ 8.31],\n",
       "       [ 8.32],\n",
       "       [ 8.33],\n",
       "       [ 8.34],\n",
       "       [ 8.35],\n",
       "       [ 8.36],\n",
       "       [ 8.37],\n",
       "       [ 8.38],\n",
       "       [ 8.39],\n",
       "       [ 8.4 ],\n",
       "       [ 8.41],\n",
       "       [ 8.42],\n",
       "       [ 8.43],\n",
       "       [ 8.44],\n",
       "       [ 8.45],\n",
       "       [ 8.46],\n",
       "       [ 8.47],\n",
       "       [ 8.48],\n",
       "       [ 8.49],\n",
       "       [ 8.5 ],\n",
       "       [ 8.51],\n",
       "       [ 8.52],\n",
       "       [ 8.53],\n",
       "       [ 8.54],\n",
       "       [ 8.55],\n",
       "       [ 8.56],\n",
       "       [ 8.57],\n",
       "       [ 8.58],\n",
       "       [ 8.59],\n",
       "       [ 8.6 ],\n",
       "       [ 8.61],\n",
       "       [ 8.62],\n",
       "       [ 8.63],\n",
       "       [ 8.64],\n",
       "       [ 8.65],\n",
       "       [ 8.66],\n",
       "       [ 8.67],\n",
       "       [ 8.68],\n",
       "       [ 8.69],\n",
       "       [ 8.7 ],\n",
       "       [ 8.71],\n",
       "       [ 8.72],\n",
       "       [ 8.73],\n",
       "       [ 8.74],\n",
       "       [ 8.75],\n",
       "       [ 8.76],\n",
       "       [ 8.77],\n",
       "       [ 8.78],\n",
       "       [ 8.79],\n",
       "       [ 8.8 ],\n",
       "       [ 8.81],\n",
       "       [ 8.82],\n",
       "       [ 8.83],\n",
       "       [ 8.84],\n",
       "       [ 8.85],\n",
       "       [ 8.86],\n",
       "       [ 8.87],\n",
       "       [ 8.88],\n",
       "       [ 8.89],\n",
       "       [ 8.9 ],\n",
       "       [ 8.91],\n",
       "       [ 8.92],\n",
       "       [ 8.93],\n",
       "       [ 8.94],\n",
       "       [ 8.95],\n",
       "       [ 8.96],\n",
       "       [ 8.97],\n",
       "       [ 8.98],\n",
       "       [ 8.99],\n",
       "       [ 9.  ],\n",
       "       [ 9.01],\n",
       "       [ 9.02],\n",
       "       [ 9.03],\n",
       "       [ 9.04],\n",
       "       [ 9.05],\n",
       "       [ 9.06],\n",
       "       [ 9.07],\n",
       "       [ 9.08],\n",
       "       [ 9.09],\n",
       "       [ 9.1 ],\n",
       "       [ 9.11],\n",
       "       [ 9.12],\n",
       "       [ 9.13],\n",
       "       [ 9.14],\n",
       "       [ 9.15],\n",
       "       [ 9.16],\n",
       "       [ 9.17],\n",
       "       [ 9.18],\n",
       "       [ 9.19],\n",
       "       [ 9.2 ],\n",
       "       [ 9.21],\n",
       "       [ 9.22],\n",
       "       [ 9.23],\n",
       "       [ 9.24],\n",
       "       [ 9.25],\n",
       "       [ 9.26],\n",
       "       [ 9.27],\n",
       "       [ 9.28],\n",
       "       [ 9.29],\n",
       "       [ 9.3 ],\n",
       "       [ 9.31],\n",
       "       [ 9.32],\n",
       "       [ 9.33],\n",
       "       [ 9.34],\n",
       "       [ 9.35],\n",
       "       [ 9.36],\n",
       "       [ 9.37],\n",
       "       [ 9.38],\n",
       "       [ 9.39],\n",
       "       [ 9.4 ],\n",
       "       [ 9.41],\n",
       "       [ 9.42],\n",
       "       [ 9.43],\n",
       "       [ 9.44],\n",
       "       [ 9.45],\n",
       "       [ 9.46],\n",
       "       [ 9.47],\n",
       "       [ 9.48],\n",
       "       [ 9.49],\n",
       "       [ 9.5 ],\n",
       "       [ 9.51],\n",
       "       [ 9.52],\n",
       "       [ 9.53],\n",
       "       [ 9.54],\n",
       "       [ 9.55],\n",
       "       [ 9.56],\n",
       "       [ 9.57],\n",
       "       [ 9.58],\n",
       "       [ 9.59],\n",
       "       [ 9.6 ],\n",
       "       [ 9.61],\n",
       "       [ 9.62],\n",
       "       [ 9.63],\n",
       "       [ 9.64],\n",
       "       [ 9.65],\n",
       "       [ 9.66],\n",
       "       [ 9.67],\n",
       "       [ 9.68],\n",
       "       [ 9.69],\n",
       "       [ 9.7 ],\n",
       "       [ 9.71],\n",
       "       [ 9.72],\n",
       "       [ 9.73],\n",
       "       [ 9.74],\n",
       "       [ 9.75],\n",
       "       [ 9.76],\n",
       "       [ 9.77],\n",
       "       [ 9.78],\n",
       "       [ 9.79],\n",
       "       [ 9.8 ],\n",
       "       [ 9.81],\n",
       "       [ 9.82],\n",
       "       [ 9.83],\n",
       "       [ 9.84],\n",
       "       [ 9.85],\n",
       "       [ 9.86],\n",
       "       [ 9.87],\n",
       "       [ 9.88],\n",
       "       [ 9.89],\n",
       "       [ 9.9 ],\n",
       "       [ 9.91],\n",
       "       [ 9.92],\n",
       "       [ 9.93],\n",
       "       [ 9.94],\n",
       "       [ 9.95],\n",
       "       [ 9.96],\n",
       "       [ 9.97],\n",
       "       [ 9.98],\n",
       "       [ 9.99],\n",
       "       [10.  ],\n",
       "       [10.01],\n",
       "       [10.02],\n",
       "       [10.03],\n",
       "       [10.04],\n",
       "       [10.05],\n",
       "       [10.06],\n",
       "       [10.07],\n",
       "       [10.08],\n",
       "       [10.09],\n",
       "       [10.1 ],\n",
       "       [10.11],\n",
       "       [10.12],\n",
       "       [10.13],\n",
       "       [10.14],\n",
       "       [10.15],\n",
       "       [10.16],\n",
       "       [10.17],\n",
       "       [10.18],\n",
       "       [10.19],\n",
       "       [10.2 ],\n",
       "       [10.21],\n",
       "       [10.22],\n",
       "       [10.23],\n",
       "       [10.24],\n",
       "       [10.25],\n",
       "       [10.26],\n",
       "       [10.27],\n",
       "       [10.28],\n",
       "       [10.29],\n",
       "       [10.3 ],\n",
       "       [10.31],\n",
       "       [10.32],\n",
       "       [10.33],\n",
       "       [10.34],\n",
       "       [10.35],\n",
       "       [10.36],\n",
       "       [10.37],\n",
       "       [10.38],\n",
       "       [10.39],\n",
       "       [10.4 ],\n",
       "       [10.41],\n",
       "       [10.42],\n",
       "       [10.43],\n",
       "       [10.44],\n",
       "       [10.45],\n",
       "       [10.46],\n",
       "       [10.47],\n",
       "       [10.48],\n",
       "       [10.49],\n",
       "       [10.5 ],\n",
       "       [10.51],\n",
       "       [10.52],\n",
       "       [10.53],\n",
       "       [10.54],\n",
       "       [10.55],\n",
       "       [10.56],\n",
       "       [10.57],\n",
       "       [10.58],\n",
       "       [10.59]])"
      ]
     },
     "execution_count": 124,
     "metadata": {},
     "output_type": "execute_result"
    }
   ],
   "source": [
    "x4_grid"
   ]
  },
  {
   "cell_type": "code",
   "execution_count": 125,
   "metadata": {},
   "outputs": [
    {
     "data": {
      "image/png": "[encoded data removed]",
      "text/plain": [
       "<Figure size 432x288 with 1 Axes>"
      ]
     },
     "metadata": {
      "needs_background": "light"
     },
     "output_type": "display_data"
    }
   ],
   "source": [
    "x4_grid = np.arange(min(x_4), max(x_4), 0.01)\n",
    "x4_grid = x4_grid.reshape((len(x4_grid), 1))\n",
    "plt.scatter(x_4, y_4, color = 'greenyellow')\n",
    "plt.plot(x_4, random_reg.predict(x_4), color = 'purple')\n",
    "plt.title(\"Random Forest Regression\")\n",
    "plt.xlabel(\"X - column\")\n",
    "plt.ylabel(\"Y - column\")\n",
    "plt.show()"
   ]
  },
  {
   "cell_type": "markdown",
   "metadata": {},
   "source": [
    "### Predicting results"
   ]
  },
  {
   "cell_type": "code",
   "execution_count": 126,
   "metadata": {},
   "outputs": [
    {
     "data": {
      "text/plain": [
       "array([68.8])"
      ]
     },
     "execution_count": 126,
     "metadata": {},
     "output_type": "execute_result"
    }
   ],
   "source": [
    "random_reg.predict([[2.40]])"
   ]
  },
  {
   "cell_type": "code",
   "execution_count": 127,
   "metadata": {},
   "outputs": [
    {
     "data": {
      "text/plain": [
       "array([68.8])"
      ]
     },
     "execution_count": 127,
     "metadata": {},
     "output_type": "execute_result"
    }
   ],
   "source": [
    "random_reg.predict([[3]])"
   ]
  },
  {
   "cell_type": "code",
   "execution_count": 128,
   "metadata": {},
   "outputs": [
    {
     "data": {
      "text/plain": [
       "array([68.8])"
      ]
     },
     "execution_count": 128,
     "metadata": {},
     "output_type": "execute_result"
    }
   ],
   "source": [
    "random_reg.predict([[3.3]])"
   ]
  },
  {
   "cell_type": "code",
   "execution_count": 129,
   "metadata": {},
   "outputs": [
    {
     "data": {
      "text/plain": [
       "array([90.7])"
      ]
     },
     "execution_count": 129,
     "metadata": {},
     "output_type": "execute_result"
    }
   ],
   "source": [
    "random_reg.predict([[3.9]])"
   ]
  },
  {
   "cell_type": "code",
   "execution_count": 130,
   "metadata": {},
   "outputs": [
    {
     "data": {
      "text/plain": [
       "array([71.2])"
      ]
     },
     "execution_count": 130,
     "metadata": {},
     "output_type": "execute_result"
    }
   ],
   "source": [
    "random_reg.predict([[3.5]])"
   ]
  },
  {
   "cell_type": "code",
   "execution_count": 131,
   "metadata": {},
   "outputs": [],
   "source": [
    "compare_4={'X':[2.40,3,3.3,3.5,3.9],\n",
    "         'Y':[65,'No value','No value','No value','No value'],\n",
    "         'Predicted_Y_random':[68.8,68.8,68.8,71.2,90.7]}"
   ]
  },
  {
   "cell_type": "code",
   "execution_count": 132,
   "metadata": {},
   "outputs": [],
   "source": [
    "compare_table_4=pd.DataFrame(compare_4)"
   ]
  },
  {
   "cell_type": "code",
   "execution_count": 133,
   "metadata": {},
   "outputs": [
    {
     "data": {
      "text/html": [
       "<div>\n",
       "<style scoped>\n",
       "    .dataframe tbody tr th:only-of-type {\n",
       "        vertical-align: middle;\n",
       "    }\n",
       "\n",
       "    .dataframe tbody tr th {\n",
       "        vertical-align: top;\n",
       "    }\n",
       "\n",
       "    .dataframe thead th {\n",
       "        text-align: right;\n",
       "    }\n",
       "</style>\n",
       "<table border=\"1\" class=\"dataframe\">\n",
       "  <thead>\n",
       "    <tr style=\"text-align: right;\">\n",
       "      <th></th>\n",
       "      <th>X</th>\n",
       "      <th>Y</th>\n",
       "      <th>Predicted_Y_random</th>\n",
       "    </tr>\n",
       "  </thead>\n",
       "  <tbody>\n",
       "    <tr>\n",
       "      <th>0</th>\n",
       "      <td>2.4</td>\n",
       "      <td>65</td>\n",
       "      <td>68.8</td>\n",
       "    </tr>\n",
       "    <tr>\n",
       "      <th>1</th>\n",
       "      <td>3.0</td>\n",
       "      <td>No value</td>\n",
       "      <td>68.8</td>\n",
       "    </tr>\n",
       "    <tr>\n",
       "      <th>2</th>\n",
       "      <td>3.3</td>\n",
       "      <td>No value</td>\n",
       "      <td>68.8</td>\n",
       "    </tr>\n",
       "    <tr>\n",
       "      <th>3</th>\n",
       "      <td>3.5</td>\n",
       "      <td>No value</td>\n",
       "      <td>71.2</td>\n",
       "    </tr>\n",
       "    <tr>\n",
       "      <th>4</th>\n",
       "      <td>3.9</td>\n",
       "      <td>No value</td>\n",
       "      <td>90.7</td>\n",
       "    </tr>\n",
       "  </tbody>\n",
       "</table>\n",
       "</div>"
      ],
      "text/plain": [
       "     X         Y  Predicted_Y_random\n",
       "0  2.4        65                68.8\n",
       "1  3.0  No value                68.8\n",
       "2  3.3  No value                68.8\n",
       "3  3.5  No value                71.2\n",
       "4  3.9  No value                90.7"
      ]
     },
     "execution_count": 133,
     "metadata": {},
     "output_type": "execute_result"
    }
   ],
   "source": [
    "compare_table_4"
   ]
  },
  {
   "cell_type": "code",
   "execution_count": 134,
   "metadata": {},
   "outputs": [],
   "source": [
    "# As we see decision tree and random forest models are similar but not same"
   ]
  },
  {
   "cell_type": "markdown",
   "metadata": {},
   "source": [
    "### R-squared"
   ]
  },
  {
   "cell_type": "code",
   "execution_count": 135,
   "metadata": {},
   "outputs": [],
   "source": [
    "y4_pred=random_reg.predict(x_4)"
   ]
  },
  {
   "cell_type": "code",
   "execution_count": 136,
   "metadata": {},
   "outputs": [
    {
     "data": {
      "text/plain": [
       "array([ 29.6,  71.3,  68.8,  94.3,  94. , 100. , 101.5, 102. , 100.8,\n",
       "        95.8,  94.6, 107.1, 108. , 106.1,  95.6,  97. , 101.2, 101.8])"
      ]
     },
     "execution_count": 136,
     "metadata": {},
     "output_type": "execute_result"
    }
   ],
   "source": [
    "y4_pred"
   ]
  },
  {
   "cell_type": "code",
   "execution_count": 137,
   "metadata": {},
   "outputs": [],
   "source": [
    "from sklearn.metrics import r2_score"
   ]
  },
  {
   "cell_type": "code",
   "execution_count": 138,
   "metadata": {},
   "outputs": [
    {
     "data": {
      "text/plain": [
       "0.9462249735946485"
      ]
     },
     "execution_count": 138,
     "metadata": {},
     "output_type": "execute_result"
    }
   ],
   "source": [
    "r2_score(y_4,y4_pred)"
   ]
  },
  {
   "cell_type": "markdown",
   "metadata": {},
   "source": [
    "### Comparison of regression results"
   ]
  },
  {
   "cell_type": "code",
   "execution_count": 139,
   "metadata": {},
   "outputs": [],
   "source": [
    "comparison={'X': [2.40,3,3.3,3.5,3.9],\n",
    "            'Y': [65,'No Value','No Value','No Value','No Value'],\n",
    "            'Predicted_Y_poly': [67.75,79.94,84.39,86.84,90.72],\n",
    "            'Predicted_Y_svr': [68.60,74.69,77.98,80.17,84.44],\n",
    "            'Predicted_Y_tree': [65.,65.,65.,65.,94.],\n",
    "            'Predicted_Y_random': [68.8,68.8,68.8,71.2,90.7]}"
   ]
  },
  {
   "cell_type": "code",
   "execution_count": 140,
   "metadata": {},
   "outputs": [],
   "source": [
    "comparison_=pd.DataFrame(comparison)"
   ]
  },
  {
   "cell_type": "code",
   "execution_count": 141,
   "metadata": {},
   "outputs": [
    {
     "data": {
      "text/html": [
       "<div>\n",
       "<style scoped>\n",
       "    .dataframe tbody tr th:only-of-type {\n",
       "        vertical-align: middle;\n",
       "    }\n",
       "\n",
       "    .dataframe tbody tr th {\n",
       "        vertical-align: top;\n",
       "    }\n",
       "\n",
       "    .dataframe thead th {\n",
       "        text-align: right;\n",
       "    }\n",
       "</style>\n",
       "<table border=\"1\" class=\"dataframe\">\n",
       "  <thead>\n",
       "    <tr style=\"text-align: right;\">\n",
       "      <th></th>\n",
       "      <th>X</th>\n",
       "      <th>Y</th>\n",
       "      <th>Predicted_Y_poly</th>\n",
       "      <th>Predicted_Y_svr</th>\n",
       "      <th>Predicted_Y_tree</th>\n",
       "      <th>Predicted_Y_random</th>\n",
       "    </tr>\n",
       "  </thead>\n",
       "  <tbody>\n",
       "    <tr>\n",
       "      <th>0</th>\n",
       "      <td>2.4</td>\n",
       "      <td>65</td>\n",
       "      <td>67.75</td>\n",
       "      <td>68.60</td>\n",
       "      <td>65.0</td>\n",
       "      <td>68.8</td>\n",
       "    </tr>\n",
       "    <tr>\n",
       "      <th>1</th>\n",
       "      <td>3.0</td>\n",
       "      <td>No Value</td>\n",
       "      <td>79.94</td>\n",
       "      <td>74.69</td>\n",
       "      <td>65.0</td>\n",
       "      <td>68.8</td>\n",
       "    </tr>\n",
       "    <tr>\n",
       "      <th>2</th>\n",
       "      <td>3.3</td>\n",
       "      <td>No Value</td>\n",
       "      <td>84.39</td>\n",
       "      <td>77.98</td>\n",
       "      <td>65.0</td>\n",
       "      <td>68.8</td>\n",
       "    </tr>\n",
       "    <tr>\n",
       "      <th>3</th>\n",
       "      <td>3.5</td>\n",
       "      <td>No Value</td>\n",
       "      <td>86.84</td>\n",
       "      <td>80.17</td>\n",
       "      <td>65.0</td>\n",
       "      <td>71.2</td>\n",
       "    </tr>\n",
       "    <tr>\n",
       "      <th>4</th>\n",
       "      <td>3.9</td>\n",
       "      <td>No Value</td>\n",
       "      <td>90.72</td>\n",
       "      <td>84.44</td>\n",
       "      <td>94.0</td>\n",
       "      <td>90.7</td>\n",
       "    </tr>\n",
       "  </tbody>\n",
       "</table>\n",
       "</div>"
      ],
      "text/plain": [
       "     X         Y  Predicted_Y_poly  Predicted_Y_svr  Predicted_Y_tree  \\\n",
       "0  2.4        65             67.75            68.60              65.0   \n",
       "1  3.0  No Value             79.94            74.69              65.0   \n",
       "2  3.3  No Value             84.39            77.98              65.0   \n",
       "3  3.5  No Value             86.84            80.17              65.0   \n",
       "4  3.9  No Value             90.72            84.44              94.0   \n",
       "\n",
       "   Predicted_Y_random  \n",
       "0                68.8  \n",
       "1                68.8  \n",
       "2                68.8  \n",
       "3                71.2  \n",
       "4                90.7  "
      ]
     },
     "execution_count": 141,
     "metadata": {},
     "output_type": "execute_result"
    }
   ],
   "source": [
    "comparison_"
   ]
  }
 ],
 "metadata": {
  "kernelspec": {
   "display_name": "Python 3",
   "language": "python",
   "name": "python3"
  },
  "language_info": {
   "codemirror_mode": {
    "name": "ipython",
    "version": 3
   },
   "file_extension": ".py",
   "mimetype": "text/x-python",
   "name": "python",
   "nbconvert_exporter": "python",
   "pygments_lexer": "ipython3",
   "version": "3.7.6"
  }
 },
 "nbformat": 4,
 "nbformat_minor": 4
}
